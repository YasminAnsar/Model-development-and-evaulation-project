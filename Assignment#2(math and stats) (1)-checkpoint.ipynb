{
 "cells": [
  {
   "cell_type": "markdown",
   "id": "9754f485",
   "metadata": {},
   "source": [
    "# Problem Statement"
   ]
  },
  {
   "cell_type": "markdown",
   "id": "031c9f95",
   "metadata": {},
   "source": [
    "Develop several models that will predict the price of the car using the variables or features. This is just an estimate but should give us an objective idea of how much the car should cost.\n",
    "Some questions we want to ask in this module\n",
    "How do I know if the dealer is offering fair value for my trade-in?\n",
    "How do I know if I put a fair value on my car?\n"
   ]
  },
  {
   "cell_type": "markdown",
   "id": "ef4ea2a6",
   "metadata": {},
   "source": [
    "\n",
    "##### Submissions:\n",
    "Use a jupyter notebook to submit.\n",
    "Discuss your final findings for each of the tasks.\n",
    "Use the helper functions provided to create plots and explain the corresponding visuals.\n",
    "Clean your data adequately to minimise errors.\n",
    "##### Learnings Expected:\n",
    "Sampling data.\n",
    "Model Hypothesis tests.\n",
    "Model Evaluation using Plots\n",
    "Tools and libraries:\n",
    "LinearRegression from sklearn\n",
    "Train test split or other sampling method\n",
    "PolynomialFeatures from sklearn"
   ]
  },
  {
   "cell_type": "markdown",
   "id": "ee084c99",
   "metadata": {},
   "source": [
    "A Model will help us understand the exact relationship between different variables and how these variables are used to predict the result"
   ]
  },
  {
   "cell_type": "markdown",
   "id": "44a0f3f4",
   "metadata": {},
   "source": [
    "###### Setup"
   ]
  },
  {
   "cell_type": "code",
   "execution_count": 131,
   "id": "038ab560",
   "metadata": {},
   "outputs": [],
   "source": [
    "#Importing the libraries\n",
    "import pandas as pd\n",
    "import numpy as np\n",
    "import matplotlib.pyplot as plt"
   ]
  },
  {
   "cell_type": "markdown",
   "id": "deadd608",
   "metadata": {},
   "source": [
    "importing the cleaned data file from previous work and storing it into a pandas dataframe"
   ]
  },
  {
   "cell_type": "code",
   "execution_count": 132,
   "id": "9ec0d4d4",
   "metadata": {},
   "outputs": [
    {
     "data": {
      "text/html": [
       "<div>\n",
       "<style scoped>\n",
       "    .dataframe tbody tr th:only-of-type {\n",
       "        vertical-align: middle;\n",
       "    }\n",
       "\n",
       "    .dataframe tbody tr th {\n",
       "        vertical-align: top;\n",
       "    }\n",
       "\n",
       "    .dataframe thead th {\n",
       "        text-align: right;\n",
       "    }\n",
       "</style>\n",
       "<table border=\"1\" class=\"dataframe\">\n",
       "  <thead>\n",
       "    <tr style=\"text-align: right;\">\n",
       "      <th></th>\n",
       "      <th>Unnamed: 0</th>\n",
       "      <th>symboling</th>\n",
       "      <th>normalized-losses</th>\n",
       "      <th>make</th>\n",
       "      <th>body-style</th>\n",
       "      <th>drive-wheels</th>\n",
       "      <th>engine-location</th>\n",
       "      <th>wheel-base</th>\n",
       "      <th>length</th>\n",
       "      <th>width</th>\n",
       "      <th>...</th>\n",
       "      <th>highway-L/100km</th>\n",
       "      <th>norm_length</th>\n",
       "      <th>norm_height</th>\n",
       "      <th>norm_width</th>\n",
       "      <th>doors_four</th>\n",
       "      <th>doors_two</th>\n",
       "      <th>diesel</th>\n",
       "      <th>gas</th>\n",
       "      <th>aspiration-std</th>\n",
       "      <th>aspiration-turbo</th>\n",
       "    </tr>\n",
       "  </thead>\n",
       "  <tbody>\n",
       "    <tr>\n",
       "      <th>0</th>\n",
       "      <td>0</td>\n",
       "      <td>3</td>\n",
       "      <td>122.0</td>\n",
       "      <td>alfa-romero</td>\n",
       "      <td>convertible</td>\n",
       "      <td>rwd</td>\n",
       "      <td>front</td>\n",
       "      <td>88.6</td>\n",
       "      <td>168.8</td>\n",
       "      <td>64.1</td>\n",
       "      <td>...</td>\n",
       "      <td>8.711667</td>\n",
       "      <td>0.811148</td>\n",
       "      <td>0.816054</td>\n",
       "      <td>0.890278</td>\n",
       "      <td>0</td>\n",
       "      <td>1</td>\n",
       "      <td>0</td>\n",
       "      <td>1</td>\n",
       "      <td>1</td>\n",
       "      <td>0</td>\n",
       "    </tr>\n",
       "    <tr>\n",
       "      <th>1</th>\n",
       "      <td>1</td>\n",
       "      <td>3</td>\n",
       "      <td>122.0</td>\n",
       "      <td>alfa-romero</td>\n",
       "      <td>convertible</td>\n",
       "      <td>rwd</td>\n",
       "      <td>front</td>\n",
       "      <td>88.6</td>\n",
       "      <td>168.8</td>\n",
       "      <td>64.1</td>\n",
       "      <td>...</td>\n",
       "      <td>8.711667</td>\n",
       "      <td>0.811148</td>\n",
       "      <td>0.816054</td>\n",
       "      <td>0.890278</td>\n",
       "      <td>0</td>\n",
       "      <td>1</td>\n",
       "      <td>0</td>\n",
       "      <td>1</td>\n",
       "      <td>1</td>\n",
       "      <td>0</td>\n",
       "    </tr>\n",
       "    <tr>\n",
       "      <th>2</th>\n",
       "      <td>2</td>\n",
       "      <td>1</td>\n",
       "      <td>122.0</td>\n",
       "      <td>alfa-romero</td>\n",
       "      <td>hatchback</td>\n",
       "      <td>rwd</td>\n",
       "      <td>front</td>\n",
       "      <td>94.5</td>\n",
       "      <td>171.2</td>\n",
       "      <td>65.5</td>\n",
       "      <td>...</td>\n",
       "      <td>9.046731</td>\n",
       "      <td>0.822681</td>\n",
       "      <td>0.876254</td>\n",
       "      <td>0.909722</td>\n",
       "      <td>0</td>\n",
       "      <td>1</td>\n",
       "      <td>0</td>\n",
       "      <td>1</td>\n",
       "      <td>1</td>\n",
       "      <td>0</td>\n",
       "    </tr>\n",
       "    <tr>\n",
       "      <th>3</th>\n",
       "      <td>3</td>\n",
       "      <td>2</td>\n",
       "      <td>164.0</td>\n",
       "      <td>audi</td>\n",
       "      <td>sedan</td>\n",
       "      <td>fwd</td>\n",
       "      <td>front</td>\n",
       "      <td>99.8</td>\n",
       "      <td>176.6</td>\n",
       "      <td>66.2</td>\n",
       "      <td>...</td>\n",
       "      <td>7.840500</td>\n",
       "      <td>0.848630</td>\n",
       "      <td>0.908027</td>\n",
       "      <td>0.919444</td>\n",
       "      <td>1</td>\n",
       "      <td>0</td>\n",
       "      <td>0</td>\n",
       "      <td>1</td>\n",
       "      <td>1</td>\n",
       "      <td>0</td>\n",
       "    </tr>\n",
       "    <tr>\n",
       "      <th>4</th>\n",
       "      <td>4</td>\n",
       "      <td>2</td>\n",
       "      <td>164.0</td>\n",
       "      <td>audi</td>\n",
       "      <td>sedan</td>\n",
       "      <td>4wd</td>\n",
       "      <td>front</td>\n",
       "      <td>99.4</td>\n",
       "      <td>176.6</td>\n",
       "      <td>66.4</td>\n",
       "      <td>...</td>\n",
       "      <td>10.691591</td>\n",
       "      <td>0.848630</td>\n",
       "      <td>0.908027</td>\n",
       "      <td>0.922222</td>\n",
       "      <td>1</td>\n",
       "      <td>0</td>\n",
       "      <td>0</td>\n",
       "      <td>1</td>\n",
       "      <td>1</td>\n",
       "      <td>0</td>\n",
       "    </tr>\n",
       "  </tbody>\n",
       "</table>\n",
       "<p>5 rows × 35 columns</p>\n",
       "</div>"
      ],
      "text/plain": [
       "   Unnamed: 0  symboling  normalized-losses         make   body-style  \\\n",
       "0           0          3              122.0  alfa-romero  convertible   \n",
       "1           1          3              122.0  alfa-romero  convertible   \n",
       "2           2          1              122.0  alfa-romero    hatchback   \n",
       "3           3          2              164.0         audi        sedan   \n",
       "4           4          2              164.0         audi        sedan   \n",
       "\n",
       "  drive-wheels engine-location  wheel-base  length  width  ...  \\\n",
       "0          rwd           front        88.6   168.8   64.1  ...   \n",
       "1          rwd           front        88.6   168.8   64.1  ...   \n",
       "2          rwd           front        94.5   171.2   65.5  ...   \n",
       "3          fwd           front        99.8   176.6   66.2  ...   \n",
       "4          4wd           front        99.4   176.6   66.4  ...   \n",
       "\n",
       "   highway-L/100km  norm_length norm_height norm_width  doors_four doors_two  \\\n",
       "0         8.711667     0.811148    0.816054   0.890278           0         1   \n",
       "1         8.711667     0.811148    0.816054   0.890278           0         1   \n",
       "2         9.046731     0.822681    0.876254   0.909722           0         1   \n",
       "3         7.840500     0.848630    0.908027   0.919444           1         0   \n",
       "4        10.691591     0.848630    0.908027   0.922222           1         0   \n",
       "\n",
       "   diesel  gas  aspiration-std  aspiration-turbo  \n",
       "0       0    1               1                 0  \n",
       "1       0    1               1                 0  \n",
       "2       0    1               1                 0  \n",
       "3       0    1               1                 0  \n",
       "4       0    1               1                 0  \n",
       "\n",
       "[5 rows x 35 columns]"
      ]
     },
     "execution_count": 132,
     "metadata": {},
     "output_type": "execute_result"
    }
   ],
   "source": [
    "data = pd.read_csv(\"Engineered_data\")\n",
    "data.head()  #It shows the tope five rows of the dataframe data"
   ]
  },
  {
   "cell_type": "code",
   "execution_count": 133,
   "id": "ea0eb632",
   "metadata": {},
   "outputs": [
    {
     "data": {
      "text/plain": [
       "Index(['Unnamed: 0', 'symboling', 'normalized-losses', 'make', 'body-style',\n",
       "       'drive-wheels', 'engine-location', 'wheel-base', 'length', 'width',\n",
       "       'height', 'curb-weight', 'engine-type', 'num-of-cylinders',\n",
       "       'engine-size', 'fuel-system', 'bore', 'stroke', 'compression-ratio',\n",
       "       'horsepower', 'peak-rpm', 'city-mpg', 'highway-mpg', 'price',\n",
       "       'city-L/100km', 'highway-L/100km', 'norm_length', 'norm_height',\n",
       "       'norm_width', 'doors_four', 'doors_two', 'diesel', 'gas',\n",
       "       'aspiration-std', 'aspiration-turbo'],\n",
       "      dtype='object')"
      ]
     },
     "execution_count": 133,
     "metadata": {},
     "output_type": "execute_result"
    }
   ],
   "source": [
    "data.columns # looking for column names in the dataframe"
   ]
  },
  {
   "cell_type": "code",
   "execution_count": 134,
   "id": "cd6b1086",
   "metadata": {},
   "outputs": [],
   "source": [
    "#Droping the unwanted column 'Unnamed: 0' from the dataframe data\n",
    "data.drop(\"Unnamed: 0\", axis = 1, inplace=True)  "
   ]
  },
  {
   "cell_type": "code",
   "execution_count": 135,
   "id": "e6b90aad",
   "metadata": {},
   "outputs": [
    {
     "data": {
      "text/html": [
       "<div>\n",
       "<style scoped>\n",
       "    .dataframe tbody tr th:only-of-type {\n",
       "        vertical-align: middle;\n",
       "    }\n",
       "\n",
       "    .dataframe tbody tr th {\n",
       "        vertical-align: top;\n",
       "    }\n",
       "\n",
       "    .dataframe thead th {\n",
       "        text-align: right;\n",
       "    }\n",
       "</style>\n",
       "<table border=\"1\" class=\"dataframe\">\n",
       "  <thead>\n",
       "    <tr style=\"text-align: right;\">\n",
       "      <th></th>\n",
       "      <th>symboling</th>\n",
       "      <th>normalized-losses</th>\n",
       "      <th>make</th>\n",
       "      <th>body-style</th>\n",
       "      <th>drive-wheels</th>\n",
       "      <th>engine-location</th>\n",
       "      <th>wheel-base</th>\n",
       "      <th>length</th>\n",
       "      <th>width</th>\n",
       "      <th>height</th>\n",
       "      <th>...</th>\n",
       "      <th>highway-L/100km</th>\n",
       "      <th>norm_length</th>\n",
       "      <th>norm_height</th>\n",
       "      <th>norm_width</th>\n",
       "      <th>doors_four</th>\n",
       "      <th>doors_two</th>\n",
       "      <th>diesel</th>\n",
       "      <th>gas</th>\n",
       "      <th>aspiration-std</th>\n",
       "      <th>aspiration-turbo</th>\n",
       "    </tr>\n",
       "  </thead>\n",
       "  <tbody>\n",
       "    <tr>\n",
       "      <th>0</th>\n",
       "      <td>3</td>\n",
       "      <td>122.0</td>\n",
       "      <td>alfa-romero</td>\n",
       "      <td>convertible</td>\n",
       "      <td>rwd</td>\n",
       "      <td>front</td>\n",
       "      <td>88.6</td>\n",
       "      <td>168.8</td>\n",
       "      <td>64.1</td>\n",
       "      <td>48.8</td>\n",
       "      <td>...</td>\n",
       "      <td>8.711667</td>\n",
       "      <td>0.811148</td>\n",
       "      <td>0.816054</td>\n",
       "      <td>0.890278</td>\n",
       "      <td>0</td>\n",
       "      <td>1</td>\n",
       "      <td>0</td>\n",
       "      <td>1</td>\n",
       "      <td>1</td>\n",
       "      <td>0</td>\n",
       "    </tr>\n",
       "    <tr>\n",
       "      <th>1</th>\n",
       "      <td>3</td>\n",
       "      <td>122.0</td>\n",
       "      <td>alfa-romero</td>\n",
       "      <td>convertible</td>\n",
       "      <td>rwd</td>\n",
       "      <td>front</td>\n",
       "      <td>88.6</td>\n",
       "      <td>168.8</td>\n",
       "      <td>64.1</td>\n",
       "      <td>48.8</td>\n",
       "      <td>...</td>\n",
       "      <td>8.711667</td>\n",
       "      <td>0.811148</td>\n",
       "      <td>0.816054</td>\n",
       "      <td>0.890278</td>\n",
       "      <td>0</td>\n",
       "      <td>1</td>\n",
       "      <td>0</td>\n",
       "      <td>1</td>\n",
       "      <td>1</td>\n",
       "      <td>0</td>\n",
       "    </tr>\n",
       "    <tr>\n",
       "      <th>2</th>\n",
       "      <td>1</td>\n",
       "      <td>122.0</td>\n",
       "      <td>alfa-romero</td>\n",
       "      <td>hatchback</td>\n",
       "      <td>rwd</td>\n",
       "      <td>front</td>\n",
       "      <td>94.5</td>\n",
       "      <td>171.2</td>\n",
       "      <td>65.5</td>\n",
       "      <td>52.4</td>\n",
       "      <td>...</td>\n",
       "      <td>9.046731</td>\n",
       "      <td>0.822681</td>\n",
       "      <td>0.876254</td>\n",
       "      <td>0.909722</td>\n",
       "      <td>0</td>\n",
       "      <td>1</td>\n",
       "      <td>0</td>\n",
       "      <td>1</td>\n",
       "      <td>1</td>\n",
       "      <td>0</td>\n",
       "    </tr>\n",
       "    <tr>\n",
       "      <th>3</th>\n",
       "      <td>2</td>\n",
       "      <td>164.0</td>\n",
       "      <td>audi</td>\n",
       "      <td>sedan</td>\n",
       "      <td>fwd</td>\n",
       "      <td>front</td>\n",
       "      <td>99.8</td>\n",
       "      <td>176.6</td>\n",
       "      <td>66.2</td>\n",
       "      <td>54.3</td>\n",
       "      <td>...</td>\n",
       "      <td>7.840500</td>\n",
       "      <td>0.848630</td>\n",
       "      <td>0.908027</td>\n",
       "      <td>0.919444</td>\n",
       "      <td>1</td>\n",
       "      <td>0</td>\n",
       "      <td>0</td>\n",
       "      <td>1</td>\n",
       "      <td>1</td>\n",
       "      <td>0</td>\n",
       "    </tr>\n",
       "    <tr>\n",
       "      <th>4</th>\n",
       "      <td>2</td>\n",
       "      <td>164.0</td>\n",
       "      <td>audi</td>\n",
       "      <td>sedan</td>\n",
       "      <td>4wd</td>\n",
       "      <td>front</td>\n",
       "      <td>99.4</td>\n",
       "      <td>176.6</td>\n",
       "      <td>66.4</td>\n",
       "      <td>54.3</td>\n",
       "      <td>...</td>\n",
       "      <td>10.691591</td>\n",
       "      <td>0.848630</td>\n",
       "      <td>0.908027</td>\n",
       "      <td>0.922222</td>\n",
       "      <td>1</td>\n",
       "      <td>0</td>\n",
       "      <td>0</td>\n",
       "      <td>1</td>\n",
       "      <td>1</td>\n",
       "      <td>0</td>\n",
       "    </tr>\n",
       "  </tbody>\n",
       "</table>\n",
       "<p>5 rows × 34 columns</p>\n",
       "</div>"
      ],
      "text/plain": [
       "   symboling  normalized-losses         make   body-style drive-wheels  \\\n",
       "0          3              122.0  alfa-romero  convertible          rwd   \n",
       "1          3              122.0  alfa-romero  convertible          rwd   \n",
       "2          1              122.0  alfa-romero    hatchback          rwd   \n",
       "3          2              164.0         audi        sedan          fwd   \n",
       "4          2              164.0         audi        sedan          4wd   \n",
       "\n",
       "  engine-location  wheel-base  length  width  height  ...  highway-L/100km  \\\n",
       "0           front        88.6   168.8   64.1    48.8  ...         8.711667   \n",
       "1           front        88.6   168.8   64.1    48.8  ...         8.711667   \n",
       "2           front        94.5   171.2   65.5    52.4  ...         9.046731   \n",
       "3           front        99.8   176.6   66.2    54.3  ...         7.840500   \n",
       "4           front        99.4   176.6   66.4    54.3  ...        10.691591   \n",
       "\n",
       "  norm_length norm_height  norm_width doors_four  doors_two  diesel  gas  \\\n",
       "0    0.811148    0.816054    0.890278          0          1       0    1   \n",
       "1    0.811148    0.816054    0.890278          0          1       0    1   \n",
       "2    0.822681    0.876254    0.909722          0          1       0    1   \n",
       "3    0.848630    0.908027    0.919444          1          0       0    1   \n",
       "4    0.848630    0.908027    0.922222          1          0       0    1   \n",
       "\n",
       "   aspiration-std  aspiration-turbo  \n",
       "0               1                 0  \n",
       "1               1                 0  \n",
       "2               1                 0  \n",
       "3               1                 0  \n",
       "4               1                 0  \n",
       "\n",
       "[5 rows x 34 columns]"
      ]
     },
     "execution_count": 135,
     "metadata": {},
     "output_type": "execute_result"
    }
   ],
   "source": [
    "#Checking the data, now the unwanted column is removed form the data\n",
    "data.head() "
   ]
  },
  {
   "cell_type": "code",
   "execution_count": 136,
   "id": "77362413",
   "metadata": {},
   "outputs": [
    {
     "data": {
      "text/plain": [
       "symboling              int64\n",
       "normalized-losses    float64\n",
       "make                  object\n",
       "body-style            object\n",
       "drive-wheels          object\n",
       "engine-location       object\n",
       "wheel-base           float64\n",
       "length               float64\n",
       "width                float64\n",
       "height               float64\n",
       "curb-weight            int64\n",
       "engine-type           object\n",
       "num-of-cylinders      object\n",
       "engine-size            int64\n",
       "fuel-system           object\n",
       "bore                 float64\n",
       "stroke               float64\n",
       "compression-ratio    float64\n",
       "horsepower           float64\n",
       "peak-rpm             float64\n",
       "city-mpg               int64\n",
       "highway-mpg            int64\n",
       "price                  int64\n",
       "city-L/100km         float64\n",
       "highway-L/100km      float64\n",
       "norm_length          float64\n",
       "norm_height          float64\n",
       "norm_width           float64\n",
       "doors_four             int64\n",
       "doors_two              int64\n",
       "diesel                 int64\n",
       "gas                    int64\n",
       "aspiration-std         int64\n",
       "aspiration-turbo       int64\n",
       "dtype: object"
      ]
     },
     "execution_count": 136,
     "metadata": {},
     "output_type": "execute_result"
    }
   ],
   "source": [
    "#Checking the datatypes of all the data\n",
    "data.dtypes"
   ]
  },
  {
   "cell_type": "code",
   "execution_count": 137,
   "id": "f22cddd7",
   "metadata": {},
   "outputs": [
    {
     "data": {
      "text/html": [
       "<div>\n",
       "<style scoped>\n",
       "    .dataframe tbody tr th:only-of-type {\n",
       "        vertical-align: middle;\n",
       "    }\n",
       "\n",
       "    .dataframe tbody tr th {\n",
       "        vertical-align: top;\n",
       "    }\n",
       "\n",
       "    .dataframe thead th {\n",
       "        text-align: right;\n",
       "    }\n",
       "</style>\n",
       "<table border=\"1\" class=\"dataframe\">\n",
       "  <thead>\n",
       "    <tr style=\"text-align: right;\">\n",
       "      <th></th>\n",
       "      <th>symboling</th>\n",
       "      <th>normalized-losses</th>\n",
       "      <th>wheel-base</th>\n",
       "      <th>length</th>\n",
       "      <th>width</th>\n",
       "      <th>height</th>\n",
       "      <th>curb-weight</th>\n",
       "      <th>engine-size</th>\n",
       "      <th>bore</th>\n",
       "      <th>stroke</th>\n",
       "      <th>...</th>\n",
       "      <th>highway-L/100km</th>\n",
       "      <th>norm_length</th>\n",
       "      <th>norm_height</th>\n",
       "      <th>norm_width</th>\n",
       "      <th>doors_four</th>\n",
       "      <th>doors_two</th>\n",
       "      <th>diesel</th>\n",
       "      <th>gas</th>\n",
       "      <th>aspiration-std</th>\n",
       "      <th>aspiration-turbo</th>\n",
       "    </tr>\n",
       "  </thead>\n",
       "  <tbody>\n",
       "    <tr>\n",
       "      <th>count</th>\n",
       "      <td>201.000000</td>\n",
       "      <td>201.00000</td>\n",
       "      <td>201.000000</td>\n",
       "      <td>201.000000</td>\n",
       "      <td>201.000000</td>\n",
       "      <td>201.000000</td>\n",
       "      <td>201.000000</td>\n",
       "      <td>201.000000</td>\n",
       "      <td>201.000000</td>\n",
       "      <td>201.000000</td>\n",
       "      <td>...</td>\n",
       "      <td>201.000000</td>\n",
       "      <td>201.000000</td>\n",
       "      <td>201.000000</td>\n",
       "      <td>201.000000</td>\n",
       "      <td>201.000000</td>\n",
       "      <td>201.000000</td>\n",
       "      <td>201.000000</td>\n",
       "      <td>201.000000</td>\n",
       "      <td>201.000000</td>\n",
       "      <td>201.000000</td>\n",
       "    </tr>\n",
       "    <tr>\n",
       "      <th>mean</th>\n",
       "      <td>0.840796</td>\n",
       "      <td>122.00000</td>\n",
       "      <td>98.797015</td>\n",
       "      <td>174.200995</td>\n",
       "      <td>65.889055</td>\n",
       "      <td>53.766667</td>\n",
       "      <td>2555.666667</td>\n",
       "      <td>126.875622</td>\n",
       "      <td>3.330692</td>\n",
       "      <td>3.256874</td>\n",
       "      <td>...</td>\n",
       "      <td>8.052317</td>\n",
       "      <td>0.837102</td>\n",
       "      <td>0.899108</td>\n",
       "      <td>0.915126</td>\n",
       "      <td>0.572139</td>\n",
       "      <td>0.427861</td>\n",
       "      <td>0.099502</td>\n",
       "      <td>0.900498</td>\n",
       "      <td>0.820896</td>\n",
       "      <td>0.179104</td>\n",
       "    </tr>\n",
       "    <tr>\n",
       "      <th>std</th>\n",
       "      <td>1.254802</td>\n",
       "      <td>31.99625</td>\n",
       "      <td>6.066366</td>\n",
       "      <td>12.322175</td>\n",
       "      <td>2.101471</td>\n",
       "      <td>2.447822</td>\n",
       "      <td>517.296727</td>\n",
       "      <td>41.546834</td>\n",
       "      <td>0.268072</td>\n",
       "      <td>0.316048</td>\n",
       "      <td>...</td>\n",
       "      <td>1.842423</td>\n",
       "      <td>0.059213</td>\n",
       "      <td>0.040933</td>\n",
       "      <td>0.029187</td>\n",
       "      <td>0.496004</td>\n",
       "      <td>0.496004</td>\n",
       "      <td>0.300083</td>\n",
       "      <td>0.300083</td>\n",
       "      <td>0.384397</td>\n",
       "      <td>0.384397</td>\n",
       "    </tr>\n",
       "    <tr>\n",
       "      <th>min</th>\n",
       "      <td>-2.000000</td>\n",
       "      <td>65.00000</td>\n",
       "      <td>86.600000</td>\n",
       "      <td>141.100000</td>\n",
       "      <td>60.300000</td>\n",
       "      <td>47.800000</td>\n",
       "      <td>1488.000000</td>\n",
       "      <td>61.000000</td>\n",
       "      <td>2.540000</td>\n",
       "      <td>2.070000</td>\n",
       "      <td>...</td>\n",
       "      <td>4.355833</td>\n",
       "      <td>0.678039</td>\n",
       "      <td>0.799331</td>\n",
       "      <td>0.837500</td>\n",
       "      <td>0.000000</td>\n",
       "      <td>0.000000</td>\n",
       "      <td>0.000000</td>\n",
       "      <td>0.000000</td>\n",
       "      <td>0.000000</td>\n",
       "      <td>0.000000</td>\n",
       "    </tr>\n",
       "    <tr>\n",
       "      <th>25%</th>\n",
       "      <td>0.000000</td>\n",
       "      <td>101.00000</td>\n",
       "      <td>94.500000</td>\n",
       "      <td>166.800000</td>\n",
       "      <td>64.100000</td>\n",
       "      <td>52.000000</td>\n",
       "      <td>2169.000000</td>\n",
       "      <td>98.000000</td>\n",
       "      <td>3.150000</td>\n",
       "      <td>3.110000</td>\n",
       "      <td>...</td>\n",
       "      <td>6.918088</td>\n",
       "      <td>0.801538</td>\n",
       "      <td>0.869565</td>\n",
       "      <td>0.890278</td>\n",
       "      <td>0.000000</td>\n",
       "      <td>0.000000</td>\n",
       "      <td>0.000000</td>\n",
       "      <td>1.000000</td>\n",
       "      <td>1.000000</td>\n",
       "      <td>0.000000</td>\n",
       "    </tr>\n",
       "    <tr>\n",
       "      <th>50%</th>\n",
       "      <td>1.000000</td>\n",
       "      <td>122.00000</td>\n",
       "      <td>97.000000</td>\n",
       "      <td>173.200000</td>\n",
       "      <td>65.500000</td>\n",
       "      <td>54.100000</td>\n",
       "      <td>2414.000000</td>\n",
       "      <td>120.000000</td>\n",
       "      <td>3.310000</td>\n",
       "      <td>3.290000</td>\n",
       "      <td>...</td>\n",
       "      <td>7.840500</td>\n",
       "      <td>0.832292</td>\n",
       "      <td>0.904682</td>\n",
       "      <td>0.909722</td>\n",
       "      <td>1.000000</td>\n",
       "      <td>0.000000</td>\n",
       "      <td>0.000000</td>\n",
       "      <td>1.000000</td>\n",
       "      <td>1.000000</td>\n",
       "      <td>0.000000</td>\n",
       "    </tr>\n",
       "    <tr>\n",
       "      <th>75%</th>\n",
       "      <td>2.000000</td>\n",
       "      <td>137.00000</td>\n",
       "      <td>102.400000</td>\n",
       "      <td>183.500000</td>\n",
       "      <td>66.600000</td>\n",
       "      <td>55.500000</td>\n",
       "      <td>2926.000000</td>\n",
       "      <td>141.000000</td>\n",
       "      <td>3.580000</td>\n",
       "      <td>3.410000</td>\n",
       "      <td>...</td>\n",
       "      <td>9.408600</td>\n",
       "      <td>0.881788</td>\n",
       "      <td>0.928094</td>\n",
       "      <td>0.925000</td>\n",
       "      <td>1.000000</td>\n",
       "      <td>1.000000</td>\n",
       "      <td>0.000000</td>\n",
       "      <td>1.000000</td>\n",
       "      <td>1.000000</td>\n",
       "      <td>0.000000</td>\n",
       "    </tr>\n",
       "    <tr>\n",
       "      <th>max</th>\n",
       "      <td>3.000000</td>\n",
       "      <td>256.00000</td>\n",
       "      <td>120.900000</td>\n",
       "      <td>208.100000</td>\n",
       "      <td>72.000000</td>\n",
       "      <td>59.800000</td>\n",
       "      <td>4066.000000</td>\n",
       "      <td>326.000000</td>\n",
       "      <td>3.940000</td>\n",
       "      <td>4.170000</td>\n",
       "      <td>...</td>\n",
       "      <td>14.700938</td>\n",
       "      <td>1.000000</td>\n",
       "      <td>1.000000</td>\n",
       "      <td>1.000000</td>\n",
       "      <td>1.000000</td>\n",
       "      <td>1.000000</td>\n",
       "      <td>1.000000</td>\n",
       "      <td>1.000000</td>\n",
       "      <td>1.000000</td>\n",
       "      <td>1.000000</td>\n",
       "    </tr>\n",
       "  </tbody>\n",
       "</table>\n",
       "<p>8 rows × 27 columns</p>\n",
       "</div>"
      ],
      "text/plain": [
       "        symboling  normalized-losses  wheel-base      length       width  \\\n",
       "count  201.000000          201.00000  201.000000  201.000000  201.000000   \n",
       "mean     0.840796          122.00000   98.797015  174.200995   65.889055   \n",
       "std      1.254802           31.99625    6.066366   12.322175    2.101471   \n",
       "min     -2.000000           65.00000   86.600000  141.100000   60.300000   \n",
       "25%      0.000000          101.00000   94.500000  166.800000   64.100000   \n",
       "50%      1.000000          122.00000   97.000000  173.200000   65.500000   \n",
       "75%      2.000000          137.00000  102.400000  183.500000   66.600000   \n",
       "max      3.000000          256.00000  120.900000  208.100000   72.000000   \n",
       "\n",
       "           height  curb-weight  engine-size        bore      stroke  ...  \\\n",
       "count  201.000000   201.000000   201.000000  201.000000  201.000000  ...   \n",
       "mean    53.766667  2555.666667   126.875622    3.330692    3.256874  ...   \n",
       "std      2.447822   517.296727    41.546834    0.268072    0.316048  ...   \n",
       "min     47.800000  1488.000000    61.000000    2.540000    2.070000  ...   \n",
       "25%     52.000000  2169.000000    98.000000    3.150000    3.110000  ...   \n",
       "50%     54.100000  2414.000000   120.000000    3.310000    3.290000  ...   \n",
       "75%     55.500000  2926.000000   141.000000    3.580000    3.410000  ...   \n",
       "max     59.800000  4066.000000   326.000000    3.940000    4.170000  ...   \n",
       "\n",
       "       highway-L/100km  norm_length  norm_height  norm_width  doors_four  \\\n",
       "count       201.000000   201.000000   201.000000  201.000000  201.000000   \n",
       "mean          8.052317     0.837102     0.899108    0.915126    0.572139   \n",
       "std           1.842423     0.059213     0.040933    0.029187    0.496004   \n",
       "min           4.355833     0.678039     0.799331    0.837500    0.000000   \n",
       "25%           6.918088     0.801538     0.869565    0.890278    0.000000   \n",
       "50%           7.840500     0.832292     0.904682    0.909722    1.000000   \n",
       "75%           9.408600     0.881788     0.928094    0.925000    1.000000   \n",
       "max          14.700938     1.000000     1.000000    1.000000    1.000000   \n",
       "\n",
       "        doors_two      diesel         gas  aspiration-std  aspiration-turbo  \n",
       "count  201.000000  201.000000  201.000000      201.000000        201.000000  \n",
       "mean     0.427861    0.099502    0.900498        0.820896          0.179104  \n",
       "std      0.496004    0.300083    0.300083        0.384397          0.384397  \n",
       "min      0.000000    0.000000    0.000000        0.000000          0.000000  \n",
       "25%      0.000000    0.000000    1.000000        1.000000          0.000000  \n",
       "50%      0.000000    0.000000    1.000000        1.000000          0.000000  \n",
       "75%      1.000000    0.000000    1.000000        1.000000          0.000000  \n",
       "max      1.000000    1.000000    1.000000        1.000000          1.000000  \n",
       "\n",
       "[8 rows x 27 columns]"
      ]
     },
     "execution_count": 137,
     "metadata": {},
     "output_type": "execute_result"
    }
   ],
   "source": [
    "#describe() provides the summary statistics of the data for numerical values like float64 or int64)\n",
    "data.describe()"
   ]
  },
  {
   "cell_type": "code",
   "execution_count": 138,
   "id": "1fd50805",
   "metadata": {},
   "outputs": [
    {
     "data": {
      "text/html": [
       "<div>\n",
       "<style scoped>\n",
       "    .dataframe tbody tr th:only-of-type {\n",
       "        vertical-align: middle;\n",
       "    }\n",
       "\n",
       "    .dataframe tbody tr th {\n",
       "        vertical-align: top;\n",
       "    }\n",
       "\n",
       "    .dataframe thead th {\n",
       "        text-align: right;\n",
       "    }\n",
       "</style>\n",
       "<table border=\"1\" class=\"dataframe\">\n",
       "  <thead>\n",
       "    <tr style=\"text-align: right;\">\n",
       "      <th></th>\n",
       "      <th>make</th>\n",
       "      <th>body-style</th>\n",
       "      <th>drive-wheels</th>\n",
       "      <th>engine-location</th>\n",
       "      <th>engine-type</th>\n",
       "      <th>num-of-cylinders</th>\n",
       "      <th>fuel-system</th>\n",
       "    </tr>\n",
       "  </thead>\n",
       "  <tbody>\n",
       "    <tr>\n",
       "      <th>count</th>\n",
       "      <td>201</td>\n",
       "      <td>201</td>\n",
       "      <td>201</td>\n",
       "      <td>201</td>\n",
       "      <td>201</td>\n",
       "      <td>201</td>\n",
       "      <td>201</td>\n",
       "    </tr>\n",
       "    <tr>\n",
       "      <th>unique</th>\n",
       "      <td>22</td>\n",
       "      <td>5</td>\n",
       "      <td>3</td>\n",
       "      <td>2</td>\n",
       "      <td>6</td>\n",
       "      <td>7</td>\n",
       "      <td>8</td>\n",
       "    </tr>\n",
       "    <tr>\n",
       "      <th>top</th>\n",
       "      <td>toyota</td>\n",
       "      <td>sedan</td>\n",
       "      <td>fwd</td>\n",
       "      <td>front</td>\n",
       "      <td>ohc</td>\n",
       "      <td>four</td>\n",
       "      <td>mpfi</td>\n",
       "    </tr>\n",
       "    <tr>\n",
       "      <th>freq</th>\n",
       "      <td>32</td>\n",
       "      <td>94</td>\n",
       "      <td>118</td>\n",
       "      <td>198</td>\n",
       "      <td>145</td>\n",
       "      <td>157</td>\n",
       "      <td>92</td>\n",
       "    </tr>\n",
       "  </tbody>\n",
       "</table>\n",
       "</div>"
      ],
      "text/plain": [
       "          make body-style drive-wheels engine-location engine-type  \\\n",
       "count      201        201          201             201         201   \n",
       "unique      22          5            3               2           6   \n",
       "top     toyota      sedan          fwd           front         ohc   \n",
       "freq        32         94          118             198         145   \n",
       "\n",
       "       num-of-cylinders fuel-system  \n",
       "count               201         201  \n",
       "unique                7           8  \n",
       "top                four        mpfi  \n",
       "freq                157          92  "
      ]
     },
     "execution_count": 138,
     "metadata": {},
     "output_type": "execute_result"
    }
   ],
   "source": [
    "#To check the summary statistics of the non-numeric data use include=['object']\n",
    "data.describe(include=['object'])"
   ]
  },
  {
   "cell_type": "markdown",
   "id": "6991b4d6",
   "metadata": {},
   "source": [
    "## Task 1 - Univariate: Submit Wednesday\n",
    "Using a simple linear function, select 1 variable/feature that has reasonable statistics as a predictor/independent variable (X) and the corresponding price feature as the target (Y). For your results, show the intercept and the coefficients and define the formula that will predict the price of the car using this feature.\n",
    "Repeat this for a minimum of 4 features"
   ]
  },
  {
   "cell_type": "markdown",
   "id": "aeeb43cc",
   "metadata": {},
   "source": [
    "### Sloution"
   ]
  },
  {
   "cell_type": "markdown",
   "id": "a3eea847",
   "metadata": {},
   "source": [
    "Here will use Simple Linear Regression method to understand the relationship between two variables:\n",
    "- The predictor/independent variable (X)\n",
    "- The response/dependent variable (that we want to predict)(Y)\n",
    "\n",
    "\n",
    "The result of Linear Regression is a **linear function** that predicts the response (dependent) variable as a function of the predictor (independent) variable. \n",
    "\n"
   ]
  },
  {
   "cell_type": "markdown",
   "id": "ee7cb5da",
   "metadata": {},
   "source": [
    " **Linear function:**\n",
    "\\begin{equation*}\n",
    "Yhat = a + b  X\n",
    "\\end{equation*}"
   ]
  },
  {
   "cell_type": "markdown",
   "id": "4babdba0",
   "metadata": {},
   "source": [
    "- a refers to the **intercept** of the regression, in other words: the value of Y when X is 0 \n",
    "- b refers to the **slope** of the regression line, in other words: the value with which Y changes when X increases by 1."
   ]
  },
  {
   "cell_type": "markdown",
   "id": "8bc77d1b",
   "metadata": {},
   "source": [
    "#### Loading module for linear regression "
   ]
  },
  {
   "cell_type": "code",
   "execution_count": 139,
   "id": "a9073e32",
   "metadata": {},
   "outputs": [],
   "source": [
    "from sklearn.linear_model import LinearRegression"
   ]
  },
  {
   "cell_type": "markdown",
   "id": "e38f0d06",
   "metadata": {},
   "source": [
    "#### Create Linear regression object"
   ]
  },
  {
   "cell_type": "code",
   "execution_count": 140,
   "id": "9406de59",
   "metadata": {},
   "outputs": [
    {
     "data": {
      "text/plain": [
       "LinearRegression()"
      ]
     },
     "execution_count": 140,
     "metadata": {},
     "output_type": "execute_result"
    }
   ],
   "source": [
    "# instantiate the Linear regression class\n",
    "lm = LinearRegression()\n",
    "lm"
   ]
  },
  {
   "cell_type": "markdown",
   "id": "06663d51",
   "metadata": {},
   "source": [
    "### 1. How could \"engine size\" helps to predict car price?"
   ]
  },
  {
   "cell_type": "markdown",
   "id": "e10b2d1e",
   "metadata": {},
   "source": [
    "How \"engine-size\" can help to predict car price?\n",
    "Using simple linear regression, creating a linear function with \"engine-size\" as the predictor variable and the \"price\" as the response variable."
   ]
  },
  {
   "cell_type": "code",
   "execution_count": 141,
   "id": "ed84f882",
   "metadata": {},
   "outputs": [],
   "source": [
    "# prepare your dependent and independent features\n",
    "X = data[['engine-size']]\n",
    "Y = data['price']"
   ]
  },
  {
   "cell_type": "markdown",
   "id": "96de530e",
   "metadata": {},
   "source": [
    "Fitting the linear regression model"
   ]
  },
  {
   "cell_type": "code",
   "execution_count": 142,
   "id": "e08fe17c",
   "metadata": {},
   "outputs": [
    {
     "data": {
      "text/plain": [
       "LinearRegression()"
      ]
     },
     "execution_count": 142,
     "metadata": {},
     "output_type": "execute_result"
    }
   ],
   "source": [
    "lm.fit(X,Y)\n"
   ]
  },
  {
   "cell_type": "markdown",
   "id": "23ef94d2",
   "metadata": {},
   "source": [
    " We can output a prediction "
   ]
  },
  {
   "cell_type": "code",
   "execution_count": 143,
   "id": "ab54b149",
   "metadata": {},
   "outputs": [
    {
     "data": {
      "text/plain": [
       "array([13728.4631336 , 13728.4631336 , 17399.38347881, 10224.40280408,\n",
       "       14729.62322775])"
      ]
     },
     "execution_count": 143,
     "metadata": {},
     "output_type": "execute_result"
    }
   ],
   "source": [
    "# predict using our created model\n",
    "Yhat = lm.predict(X)\n",
    "\n",
    "# slice the prediction array\n",
    "Yhat[0:5] "
   ]
  },
  {
   "cell_type": "markdown",
   "id": "add0c7b4",
   "metadata": {},
   "source": [
    "#### Calculating the value of the intercept (a) "
   ]
  },
  {
   "cell_type": "code",
   "execution_count": 144,
   "id": "19357f01",
   "metadata": {},
   "outputs": [
    {
     "data": {
      "text/plain": [
       "-7963.338906281049"
      ]
     },
     "execution_count": 144,
     "metadata": {},
     "output_type": "execute_result"
    }
   ],
   "source": [
    "#Calculating and storing intercept value into variable 'a'\n",
    "a = lm.intercept_   \n",
    "a"
   ]
  },
  {
   "cell_type": "markdown",
   "id": "0d338b8e",
   "metadata": {},
   "source": [
    "#### Calculating the value of the Slope (b)"
   ]
  },
  {
   "cell_type": "code",
   "execution_count": 145,
   "id": "cc35662c",
   "metadata": {},
   "outputs": [
    {
     "data": {
      "text/plain": [
       "array([166.86001569])"
      ]
     },
     "execution_count": 145,
     "metadata": {},
     "output_type": "execute_result"
    }
   ],
   "source": [
    "#Calculating and storing coefficient value into variable 'b'\n",
    "b = lm.coef_\n",
    "b"
   ]
  },
  {
   "cell_type": "markdown",
   "id": "1944da38",
   "metadata": {},
   "source": [
    "#### Final estimated linear model for engine size "
   ]
  },
  {
   "cell_type": "markdown",
   "id": "75e4e820",
   "metadata": {},
   "source": [
    "**price** = -7963.33 + 166.86 x  **engine-size**"
   ]
  },
  {
   "cell_type": "markdown",
   "id": "64fdf0b3",
   "metadata": {},
   "source": [
    "### 2. How could \"curb-weight\" helps to predict car price?"
   ]
  },
  {
   "cell_type": "markdown",
   "id": "dd5f81b1",
   "metadata": {},
   "source": [
    "How \"curb-weight\" can help to predict car price?\n",
    "Using simple linear regression, creating a linear function with \"curb-weight\" as the predictor variable and the \"price\" as the response variable."
   ]
  },
  {
   "cell_type": "code",
   "execution_count": 146,
   "id": "d5903659",
   "metadata": {},
   "outputs": [],
   "source": [
    "# prepare your dependent and independent features\n",
    "X = data[['curb-weight']]\n",
    "Y = data['price']"
   ]
  },
  {
   "cell_type": "markdown",
   "id": "d6d25eb0",
   "metadata": {},
   "source": [
    "Fitting the linear regression model"
   ]
  },
  {
   "cell_type": "code",
   "execution_count": 147,
   "id": "2ce5ce21",
   "metadata": {},
   "outputs": [
    {
     "data": {
      "text/plain": [
       "LinearRegression()"
      ]
     },
     "execution_count": 147,
     "metadata": {},
     "output_type": "execute_result"
    }
   ],
   "source": [
    "lm.fit(X,Y)"
   ]
  },
  {
   "cell_type": "markdown",
   "id": "1c17493a",
   "metadata": {},
   "source": [
    " We can output a prediction "
   ]
  },
  {
   "cell_type": "code",
   "execution_count": 148,
   "id": "9b8b107b",
   "metadata": {},
   "outputs": [
    {
     "data": {
      "text/plain": [
       "array([13108.85152621, 13108.85152621, 16634.03445191, 10404.07480868,\n",
       "       16646.85329891])"
      ]
     },
     "execution_count": 148,
     "metadata": {},
     "output_type": "execute_result"
    }
   ],
   "source": [
    "# predict using our created model\n",
    "Yhat = lm.predict(X)\n",
    "\n",
    "# slice the prediction array\n",
    "Yhat[0:5] "
   ]
  },
  {
   "cell_type": "markdown",
   "id": "5cbc7046",
   "metadata": {},
   "source": [
    "#### Calculating the value of the intercept (a) "
   ]
  },
  {
   "cell_type": "code",
   "execution_count": 149,
   "id": "cdd8164e",
   "metadata": {},
   "outputs": [
    {
     "data": {
      "text/plain": [
       "-19553.570636227483"
      ]
     },
     "execution_count": 149,
     "metadata": {},
     "output_type": "execute_result"
    }
   ],
   "source": [
    "#Calculating and storing intercept value into variable 'a'\n",
    "a = lm.intercept_   \n",
    "a"
   ]
  },
  {
   "cell_type": "markdown",
   "id": "28ad2864",
   "metadata": {},
   "source": [
    "#### Calculating the value of the Slope (b)"
   ]
  },
  {
   "cell_type": "code",
   "execution_count": 150,
   "id": "3d576f4d",
   "metadata": {},
   "outputs": [
    {
     "data": {
      "text/plain": [
       "array([12.818847])"
      ]
     },
     "execution_count": 150,
     "metadata": {},
     "output_type": "execute_result"
    }
   ],
   "source": [
    "#Calculating and storing coefficient value into variable 'b'\n",
    "b = lm.coef_\n",
    "b"
   ]
  },
  {
   "cell_type": "markdown",
   "id": "3b21936a",
   "metadata": {},
   "source": [
    "#### Final estimated linear model for engine size \n"
   ]
  },
  {
   "cell_type": "markdown",
   "id": "81a3c2a6",
   "metadata": {},
   "source": [
    "**price** = -19553.57. + 12.82 x  **curb-weight**"
   ]
  },
  {
   "cell_type": "markdown",
   "id": "46621ad6",
   "metadata": {},
   "source": [
    "### 3. How could \"stroke\" helps to predict car price?"
   ]
  },
  {
   "cell_type": "markdown",
   "id": "796030f2",
   "metadata": {},
   "source": [
    "How \"stroke\" can help to predict car price?\n",
    "Using simple linear regression, creating a linear function with \"stroke\" as the predictor variable and the \"price\" as the response variable."
   ]
  },
  {
   "cell_type": "code",
   "execution_count": 151,
   "id": "dfb8bd3b",
   "metadata": {},
   "outputs": [],
   "source": [
    "# prepare your dependent and independent features\n",
    "X = data[['stroke']]\n",
    "Y = data['price']"
   ]
  },
  {
   "cell_type": "markdown",
   "id": "8b211038",
   "metadata": {},
   "source": [
    "Fitting the linear regression model"
   ]
  },
  {
   "cell_type": "code",
   "execution_count": 152,
   "id": "aeeba907",
   "metadata": {},
   "outputs": [
    {
     "data": {
      "text/plain": [
       "LinearRegression()"
      ]
     },
     "execution_count": 152,
     "metadata": {},
     "output_type": "execute_result"
    }
   ],
   "source": [
    "lm.fit(X,Y)"
   ]
  },
  {
   "cell_type": "markdown",
   "id": "0c7d780d",
   "metadata": {},
   "source": [
    " We can output a prediction "
   ]
  },
  {
   "cell_type": "code",
   "execution_count": 153,
   "id": "2d0e2aa4",
   "metadata": {},
   "outputs": [
    {
     "data": {
      "text/plain": [
       "array([12013.76493222, 12013.76493222, 13648.01738591, 13503.21020647,\n",
       "       13503.21020647])"
      ]
     },
     "execution_count": 153,
     "metadata": {},
     "output_type": "execute_result"
    }
   ],
   "source": [
    "# predict using our created model\n",
    "Yhat = lm.predict(X)\n",
    "\n",
    "# slice the prediction array\n",
    "Yhat[0:5] "
   ]
  },
  {
   "cell_type": "markdown",
   "id": "e86ccd4d",
   "metadata": {},
   "source": [
    "#### Calculating the value of the intercept (a) \n"
   ]
  },
  {
   "cell_type": "code",
   "execution_count": 154,
   "id": "483929fe",
   "metadata": {},
   "outputs": [
    {
     "data": {
      "text/plain": [
       "6469.718633642275"
      ]
     },
     "execution_count": 154,
     "metadata": {},
     "output_type": "execute_result"
    }
   ],
   "source": [
    "#Calculating and storing intercept value into variable 'a'\n",
    "a = lm.intercept_   \n",
    "a"
   ]
  },
  {
   "cell_type": "markdown",
   "id": "15323416",
   "metadata": {},
   "source": [
    "#### Calculating the value of the Slope (b)\n"
   ]
  },
  {
   "cell_type": "code",
   "execution_count": 155,
   "id": "9de92281",
   "metadata": {},
   "outputs": [
    {
     "data": {
      "text/plain": [
       "array([2068.67399201])"
      ]
     },
     "execution_count": 155,
     "metadata": {},
     "output_type": "execute_result"
    }
   ],
   "source": [
    "#Calculating and storing coefficient value into variable 'b'\n",
    "b = lm.coef_\n",
    "b"
   ]
  },
  {
   "cell_type": "markdown",
   "id": "76d3670a",
   "metadata": {},
   "source": [
    "#### Final estimated linear model for stroke \n"
   ]
  },
  {
   "cell_type": "markdown",
   "id": "94022293",
   "metadata": {},
   "source": [
    "**price** = 6469.71 + 2068.67 x  **stroke**"
   ]
  },
  {
   "cell_type": "markdown",
   "id": "cfb98582",
   "metadata": {},
   "source": [
    "### 4. How could \"bore\" helps to predict car price?"
   ]
  },
  {
   "cell_type": "markdown",
   "id": "87abab48",
   "metadata": {},
   "source": [
    "How \"bore\" can help to predict car price?\n",
    "Using simple linear regression, creating a linear function with \"bore\" as the predictor variable and the \"price\" as the response variable."
   ]
  },
  {
   "cell_type": "code",
   "execution_count": 156,
   "id": "916cba84",
   "metadata": {},
   "outputs": [],
   "source": [
    "# prepare your dependent and independent features\n",
    "X = data[['bore']]\n",
    "Y = data['price']"
   ]
  },
  {
   "cell_type": "markdown",
   "id": "070a39c0",
   "metadata": {},
   "source": [
    "Fitting the linear regression model"
   ]
  },
  {
   "cell_type": "code",
   "execution_count": 157,
   "id": "79b9c4e4",
   "metadata": {},
   "outputs": [
    {
     "data": {
      "text/plain": [
       "LinearRegression()"
      ]
     },
     "execution_count": 157,
     "metadata": {},
     "output_type": "execute_result"
    }
   ],
   "source": [
    "lm.fit(X,Y)"
   ]
  },
  {
   "cell_type": "markdown",
   "id": "6bbdaea1",
   "metadata": {},
   "source": [
    " We can output a prediction "
   ]
  },
  {
   "cell_type": "code",
   "execution_count": 158,
   "id": "20902861",
   "metadata": {},
   "outputs": [
    {
     "data": {
      "text/plain": [
       "array([15450.27312826, 15450.27312826,  2729.69660162, 10941.71435932,\n",
       "       10941.71435932])"
      ]
     },
     "execution_count": 158,
     "metadata": {},
     "output_type": "execute_result"
    }
   ],
   "source": [
    "# predict using our created model\n",
    "Yhat = lm.predict(X)\n",
    "\n",
    "# slice the prediction array\n",
    "Yhat[0:5] "
   ]
  },
  {
   "cell_type": "markdown",
   "id": "1fd727b8",
   "metadata": {},
   "source": [
    "#### Calculating the value of the intercept (a) \n"
   ]
  },
  {
   "cell_type": "code",
   "execution_count": 159,
   "id": "6c80310c",
   "metadata": {},
   "outputs": [
    {
     "data": {
      "text/plain": [
       "-40423.65161531275"
      ]
     },
     "execution_count": 159,
     "metadata": {},
     "output_type": "execute_result"
    }
   ],
   "source": [
    "#Calculating and storing intercept value into variable 'a'\n",
    "a = lm.intercept_   \n",
    "a"
   ]
  },
  {
   "cell_type": "markdown",
   "id": "abd3d9ef",
   "metadata": {},
   "source": [
    "#### Calculating the value of the Slope (b)"
   ]
  },
  {
   "cell_type": "code",
   "execution_count": 160,
   "id": "b090c966",
   "metadata": {},
   "outputs": [
    {
     "data": {
      "text/plain": [
       "array([16101.99560333])"
      ]
     },
     "execution_count": 160,
     "metadata": {},
     "output_type": "execute_result"
    }
   ],
   "source": [
    "#Calculating and storing coefficient value into variable 'b'\n",
    "b = lm.coef_\n",
    "b"
   ]
  },
  {
   "cell_type": "markdown",
   "id": "16c82779",
   "metadata": {},
   "source": [
    "### Final estimated linear model for bore"
   ]
  },
  {
   "cell_type": "markdown",
   "id": "4ed41741",
   "metadata": {},
   "source": [
    "**price** = -40423.65 + 16101.99 x  **bore**"
   ]
  },
  {
   "cell_type": "markdown",
   "id": "61a543ac",
   "metadata": {},
   "source": [
    "\n",
    "## Task 2 - Multivariate: Submit Thursday\n",
    "Expand Task 1 to multiple linear regression, select multiple variables/features (2 minimum) with reasonable statistics as predictors/independent variables X and the corresponding price feature as the target Y. Results: Show the coefficients and define the formula that will predict the price of the car using these features."
   ]
  },
  {
   "cell_type": "markdown",
   "id": "85ac09c8",
   "metadata": {},
   "source": [
    "\n",
    "To use more variables in the model to predict car price, we can use **Multiple Linear Regression**.\n",
    "Multiple Linear Regression is very similar to Simple Linear Regression, but this method is used to explain the relationship between one continuous response (dependent) variable and *two or more* predictor (independent) variables.\n",
    "Most of the real-world regression models involve multiple predictors. We illustrate the structure by using four predictor variables, but these results can generalize to any integer :"
   ]
  },
  {
   "cell_type": "markdown",
   "id": "4917b238",
   "metadata": {},
   "source": [
    " \\begin{equation*}\n",
    "Y: Response \\ Variable\\\\\n",
    "X_1 :Predictor\\ Variable \\ 1\\\\\n",
    "X_2: Predictor\\ Variable \\ 2\\\\\n",
    "X_3: Predictor\\ Variable \\ 3\\\\\n",
    "X_4: Predictor\\ Variable \\ 4\\\\\n",
    "\\end{equation*}\n"
   ]
  },
  {
   "cell_type": "markdown",
   "id": "ee6a0927",
   "metadata": {},
   "source": [
    "\\begin{equation*}\n",
    "a: intercept\\\\\n",
    "b_1 :coefficients \\ of\\ Variable \\ 1\\\\\n",
    "b_2: coefficients \\ of\\ Variable \\ 2\\\\\n",
    "b_3: coefficients \\ of\\ Variable \\ 3\\\\\n",
    "b_4: coefficients \\ of\\ Variable \\ 4\\\\\n",
    "\\end{equation*}\n"
   ]
  },
  {
   "cell_type": "markdown",
   "id": "c6e7be79",
   "metadata": {},
   "source": [
    "Equation used for Multiple Linear Regression"
   ]
  },
  {
   "cell_type": "markdown",
   "id": "5454f8d4",
   "metadata": {},
   "source": [
    " \\begin{equation*}\n",
    "Yhat = a + b_1 X_1 + b_2 X_2 + b_3 X_3 + b_4 X_4  + ...  +  b_n X_n\n",
    "\\end{equation*}"
   ]
  },
  {
   "cell_type": "markdown",
   "id": "11ddc422",
   "metadata": {},
   "source": [
    "#### Creating a Multiple Linear Regression Model using two variables"
   ]
  },
  {
   "cell_type": "markdown",
   "id": "4d72c63d",
   "metadata": {},
   "source": [
    "Multiple Linear Regression model creation and training \"lm2\" where the response variable is price, and the predictor variable is 'normalized-losses' and 'highway-mpg'. ?"
   ]
  },
  {
   "cell_type": "code",
   "execution_count": 161,
   "id": "b10059a6",
   "metadata": {},
   "outputs": [],
   "source": [
    "Xtrain = data[['normalized-losses','highway-mpg']]"
   ]
  },
  {
   "cell_type": "markdown",
   "id": "7c9b33b0",
   "metadata": {},
   "source": [
    "Fit the linear model using the two above-mentioned variables."
   ]
  },
  {
   "cell_type": "code",
   "execution_count": 162,
   "id": "4ae92db3",
   "metadata": {},
   "outputs": [
    {
     "data": {
      "text/plain": [
       "LinearRegression()"
      ]
     },
     "execution_count": 162,
     "metadata": {},
     "output_type": "execute_result"
    }
   ],
   "source": [
    " lm.fit(Xtrain, data['price'])"
   ]
  },
  {
   "cell_type": "markdown",
   "id": "bfa2ff1d",
   "metadata": {},
   "source": [
    "Outputting the prediction"
   ]
  },
  {
   "cell_type": "code",
   "execution_count": 163,
   "id": "07851aef",
   "metadata": {},
   "outputs": [
    {
     "data": {
      "text/plain": [
       "array([16231.78938339, 16231.78938339, 17052.24372355, 13833.33798916,\n",
       "       20396.97271047])"
      ]
     },
     "execution_count": 163,
     "metadata": {},
     "output_type": "execute_result"
    }
   ],
   "source": [
    "# predict using our created model\n",
    "Yhat = lm.predict(Xtrain)\n",
    "\n",
    "# slice the prediction array\n",
    "Yhat[0:5] "
   ]
  },
  {
   "cell_type": "markdown",
   "id": "74eedf2b",
   "metadata": {},
   "source": [
    "Calculating value of the intercept(a) for Multiple Linear Regression"
   ]
  },
  {
   "cell_type": "code",
   "execution_count": 164,
   "id": "81a7a223",
   "metadata": {},
   "outputs": [
    {
     "data": {
      "text/plain": [
       "38201.31327245728"
      ]
     },
     "execution_count": 164,
     "metadata": {},
     "output_type": "execute_result"
    }
   ],
   "source": [
    "lm.intercept_"
   ]
  },
  {
   "cell_type": "markdown",
   "id": "b8adb2cd",
   "metadata": {},
   "source": [
    "Calculating values of the for coefficients  (b1, b2) for two variables."
   ]
  },
  {
   "cell_type": "code",
   "execution_count": 165,
   "id": "96f177d0",
   "metadata": {},
   "outputs": [
    {
     "data": {
      "text/plain": [
       "array([   1.49789586, -820.45434016])"
      ]
     },
     "execution_count": 165,
     "metadata": {},
     "output_type": "execute_result"
    }
   ],
   "source": [
    "lm.coef_"
   ]
  },
  {
   "cell_type": "markdown",
   "id": "cefdecd4",
   "metadata": {},
   "source": [
    "#### Final estimated linear model using two variables"
   ]
  },
  {
   "cell_type": "markdown",
   "id": "20ecacf3",
   "metadata": {},
   "source": [
    "Equation for Two variables\n",
    "\\begin{equation*}\n",
    "Yhat = a + b_1 X_1 + b_2 X_2 \n",
    "\\end{equation*}"
   ]
  },
  {
   "cell_type": "markdown",
   "id": "e989fb47",
   "metadata": {},
   "source": [
    "Final Equation with values inserted.\n",
    "**Price** = 38201.31327245728 + 1.49789586 x **normalized-losses** - 820.45434016 x **highway-mpg**"
   ]
  },
  {
   "cell_type": "markdown",
   "id": "cdecd6e9",
   "metadata": {},
   "source": [
    "#### Creating a Multiple Linear Regression Model using four variables"
   ]
  },
  {
   "cell_type": "markdown",
   "id": "550233f5",
   "metadata": {},
   "source": [
    "From Task#1 We know what could be the predictor variables for car price Let use those for multiple linear regression\n",
    "\n",
    "- engine-size\n",
    "- curb-weight\n",
    "- stroke\n",
    "- bore\n"
   ]
  },
  {
   "cell_type": "code",
   "execution_count": 166,
   "id": "1c502f9a",
   "metadata": {},
   "outputs": [],
   "source": [
    "X_train = data[['engine-size','curb-weight','stroke','bore']]"
   ]
  },
  {
   "cell_type": "markdown",
   "id": "443af6f9",
   "metadata": {},
   "source": [
    "Fit the linear model using the four above-mentioned variables."
   ]
  },
  {
   "cell_type": "code",
   "execution_count": 167,
   "id": "f861ad30",
   "metadata": {},
   "outputs": [
    {
     "data": {
      "text/plain": [
       "LinearRegression()"
      ]
     },
     "execution_count": 167,
     "metadata": {},
     "output_type": "execute_result"
    }
   ],
   "source": [
    " lm.fit(X_train, data['price'])"
   ]
  },
  {
   "cell_type": "markdown",
   "id": "d95bd079",
   "metadata": {},
   "source": [
    "Outputting the prediction"
   ]
  },
  {
   "cell_type": "code",
   "execution_count": 168,
   "id": "d8aeb208",
   "metadata": {},
   "outputs": [
    {
     "data": {
      "text/plain": [
       "array([14896.35711426, 14896.35711426, 17981.42867809,  9702.54015893,\n",
       "       15575.9244831 ])"
      ]
     },
     "execution_count": 168,
     "metadata": {},
     "output_type": "execute_result"
    }
   ],
   "source": [
    "# predict using our created model\n",
    "Yhat = lm.predict(X_train)\n",
    "\n",
    "# slice the prediction array\n",
    "Yhat[0:5] "
   ]
  },
  {
   "cell_type": "markdown",
   "id": "11257e38",
   "metadata": {},
   "source": [
    "Calculating value of the intercept(a) for Multiple Linear Regression"
   ]
  },
  {
   "cell_type": "code",
   "execution_count": 169,
   "id": "79028214",
   "metadata": {},
   "outputs": [
    {
     "data": {
      "text/plain": [
       "-2401.687326219195"
      ]
     },
     "execution_count": 169,
     "metadata": {},
     "output_type": "execute_result"
    }
   ],
   "source": [
    "lm.intercept_"
   ]
  },
  {
   "cell_type": "markdown",
   "id": "d719b746",
   "metadata": {},
   "source": [
    "Calculating values of all the for coefficients (b1, b2, b3, b4)."
   ]
  },
  {
   "cell_type": "code",
   "execution_count": 170,
   "id": "267cd272",
   "metadata": {},
   "outputs": [
    {
     "data": {
      "text/plain": [
       "array([  117.83842001,     5.5272012 , -2701.9209356 , -1401.47282664])"
      ]
     },
     "execution_count": 170,
     "metadata": {},
     "output_type": "execute_result"
    }
   ],
   "source": [
    "lm.coef_"
   ]
  },
  {
   "cell_type": "markdown",
   "id": "87d1d12f",
   "metadata": {},
   "source": [
    "#### Final estimated linear model for Multiple Linear Regression"
   ]
  },
  {
   "cell_type": "markdown",
   "id": "b23dc0ea",
   "metadata": {},
   "source": [
    "**Price** = -2401.687326219195 + 117.83842001 x **engine-size** + 5.5272012 x **curb-weight** + -2701.9209356 x **stroke** + -1401.47282664 x **bore**"
   ]
  },
  {
   "cell_type": "markdown",
   "id": "b401a502",
   "metadata": {},
   "source": [
    "## Task 3 - Polynomial: Submit Friday\n",
    "Expand Task 2 to polynomial regression. Raise the features to as many powers of your choosing and test if the relationship between the features and the target improves. Try this first with a single feature then expand to multiple features.\n",
    "Evaluation:\n",
    "Evaluate your models both using visuals and metrics."
   ]
  },
  {
   "cell_type": "markdown",
   "id": "d6784dad",
   "metadata": {},
   "source": [
    "\n"
   ]
  },
  {
   "cell_type": "markdown",
   "id": "6a37754d",
   "metadata": {},
   "source": [
    "### 2)  Model Evaluation using Visualization"
   ]
  },
  {
   "cell_type": "markdown",
   "id": "02a9e7f7",
   "metadata": {},
   "source": [
    "Now that we've developed some models, how do we evaluate our models and how do we choose the best one? One way to do this is by using visualization.\n"
   ]
  },
  {
   "cell_type": "markdown",
   "id": "6f1f2dd4",
   "metadata": {},
   "source": [
    "import the visualization package: seaborn\n"
   ]
  },
  {
   "cell_type": "code",
   "execution_count": 171,
   "id": "a356f331",
   "metadata": {},
   "outputs": [],
   "source": [
    "\n",
    "# import the visualization package: seaborn\n",
    "import seaborn as sns\n",
    "%matplotlib inline "
   ]
  },
  {
   "cell_type": "markdown",
   "id": "9f9429ed",
   "metadata": {},
   "source": [
    "### Regression Plot"
   ]
  },
  {
   "cell_type": "markdown",
   "id": "bd6c9477",
   "metadata": {},
   "source": [
    "\n",
    "When it comes to simple linear regression, an excellent way to visualise the fit of our model is by using **regression plots**.\n",
    "\n",
    "This plot will show a combination of a scattered data points (a **scatterplot**), as well as the fitted **linear regression** line going through the data. This will give us a reasonable estimate of the relationship between the two variables, the strength of the correlation, as well as the direction (positive or negative correlation).\n",
    "\n",
    " Let's visualize Horsepower as potential predictor variable of price:"
   ]
  },
  {
   "cell_type": "code",
   "execution_count": 172,
   "id": "a285771a",
   "metadata": {},
   "outputs": [
    {
     "data": {
      "text/plain": [
       "(0.0, 48179.966914973935)"
      ]
     },
     "execution_count": 172,
     "metadata": {},
     "output_type": "execute_result"
    },
    {
     "data": {
      "image/png": "[encoded data removed]",
      "text/plain": [
       "<Figure size 864x720 with 1 Axes>"
      ]
     },
     "metadata": {
      "needs_background": "light"
     },
     "output_type": "display_data"
    }
   ],
   "source": [
    "\n",
    "width = 12\n",
    "height = 10\n",
    "plt.figure(figsize=(width, height))\n",
    "sns.regplot(x=\"highway-mpg\", y=\"price\", data=data)\n",
    "plt.ylim(0,)"
   ]
  },
  {
   "cell_type": "markdown",
   "id": "eda26172",
   "metadata": {},
   "source": [
    "We can see from this plot that price is negatively correlated to highway-mpg, since the regression slope is negative.\n",
    "One thing to keep in mind when looking at a regression plot is to pay attention to how scattered the data points are around the regression line. This will give you a good indication of the variance of the data, and whether a linear model would be the best fit or not. If the data is too far off from the line, this linear model might not be the best model for this data. Let's compare this plot to the regression plot of \"peak-rpm\".\n"
   ]
  },
  {
   "cell_type": "code",
   "execution_count": 173,
   "id": "eb573b16",
   "metadata": {},
   "outputs": [
    {
     "data": {
      "text/plain": [
       "(0.0, 47414.1)"
      ]
     },
     "execution_count": 173,
     "metadata": {},
     "output_type": "execute_result"
    },
    {
     "data": {
      "image/png": "[encoded data removed]",
      "text/plain": [
       "<Figure size 864x720 with 1 Axes>"
      ]
     },
     "metadata": {
      "needs_background": "light"
     },
     "output_type": "display_data"
    }
   ],
   "source": [
    "\n",
    "plt.figure(figsize=(width, height))\n",
    "sns.regplot(x=\"peak-rpm\", y=\"price\", data=data)\n",
    "plt.ylim(0,)"
   ]
  },
  {
   "cell_type": "markdown",
   "id": "3b86d37b",
   "metadata": {},
   "source": [
    "Comparing the regression plot of \"peak-rpm\" and \"highway-mpg\" We see that the points for \"highway-mpg\" are much closer to the generated line and on the average decrease. The points for \"peak-rpm\"  have more spread around the predicted line, and it is much harder to determine if the points are decreasing or increasing as the  \"highway-mpg\"  increases.\n"
   ]
  },
  {
   "cell_type": "markdown",
   "id": "c47f8359",
   "metadata": {},
   "source": [
    " <div class=\"alert alert-danger alertdanger\" style=\"margin-top: 20px\">\n",
    "<h1> Question  #3: </h1>\n",
    "<b> Given the regression plots above is \"peak-rpm\" or \"highway-mpg\"  more strongly correlated with \"price\". Use the method  \".corr()\"  to verify your answer. </b>\n",
    "</div>\n"
   ]
  },
  {
   "cell_type": "markdown",
   "id": "f6708ce7",
   "metadata": {},
   "source": [
    "\n",
    " <div align=\"right\">\n",
    "<a href=\"#q3\" class=\"btn btn-default\" data-toggle=\"collapse\">Click here for the solution</a>\n",
    "\n",
    "</div>\n",
    "<div id=\"q3\" class=\"collapse\">"
   ]
  },
  {
   "cell_type": "markdown",
   "id": "db82f5fd",
   "metadata": {},
   "source": [
    "\n",
    " <div align=\"right\">\n",
    "<a href=\"#q3\" class=\"btn btn-default\" data-toggle=\"collapse\">Click here for the solution</a>\n",
    "\n",
    "</div>\n",
    "<div id=\"q3\" class=\"collapse\">"
   ]
  },
  {
   "cell_type": "markdown",
   "id": "cb7c88bd",
   "metadata": {},
   "source": [
    " <div align=\"right\">\n",
    "<a href=\"#q3\" class=\"btn btn-default\" data-toggle=\"collapse\">Click here for the solution</a>\n",
    "\n",
    "</div>\n",
    "<div id=\"q3\" class=\"collapse\">\n",
    "```\n",
    "The variable \"peak-rpm\"  has a stronger correlation with \"price\", it is approximate -0.704692  compared to   \"highway-mpg\" which is approximate     -0.101616. You can verify it using the following command:\n",
    "df[[\"peak-rpm\",\"highway-mpg\",\"price\"]].corr()\n",
    "```\n",
    "</div>"
   ]
  },
  {
   "cell_type": "markdown",
   "id": "f3f1c527",
   "metadata": {},
   "source": [
    "\n",
    "### Residual Plot"
   ]
  },
  {
   "cell_type": "markdown",
   "id": "da0e184d",
   "metadata": {},
   "source": [
    "A good way to visualize the variance of the data is to use a residual plot.\n",
    "\n",
    "What is a **residual**?\n",
    "\n",
    "The difference between the observed value (y) and the predicted value (Yhat) is called the residual (e). When we look at a regression plot, the residual is the distance from the data point to the fitted regression line.\n",
    "\n",
    "So what is a **residual plot**?\n",
    "\n",
    "A residual plot is a graph that shows the residuals on the vertical y-axis and the independent variable on the horizontal x-axis.\n",
    "\n",
    "What do we pay attention to when looking at a residual plot?\n",
    "\n",
    "We look at the spread of the residuals:\n",
    "\n",
    "- If the points in a residual plot are **randomly spread out around the x-axis**, then a **linear model is appropriate** for the data. Why is that? Randomly spread out residuals means that the variance is constant, and thus the linear model is a good fit for this data.\n"
   ]
  },
  {
   "cell_type": "code",
   "execution_count": 174,
   "id": "e397c9d7",
   "metadata": {},
   "outputs": [
    {
     "name": "stderr",
     "output_type": "stream",
     "text": [
      "C:\\Users\\Hewlett - Packard\\anaconda3\\lib\\site-packages\\seaborn\\_decorators.py:36: FutureWarning: Pass the following variables as keyword args: x, y. From version 0.12, the only valid positional argument will be `data`, and passing other arguments without an explicit keyword will result in an error or misinterpretation.\n",
      "  warnings.warn(\n"
     ]
    },
    {
     "data": {
      "image/png": "[encoded data removed]",
      "text/plain": [
       "<Figure size 864x720 with 1 Axes>"
      ]
     },
     "metadata": {
      "needs_background": "light"
     },
     "output_type": "display_data"
    }
   ],
   "source": [
    "width = 12\n",
    "height = 10\n",
    "plt.figure(figsize=(width, height))\n",
    "#sns.residplot(x='highway-mpg', y='price', data=data)\n",
    "sns.residplot(data['highway-mpg'], data['price'])\n",
    "plt.show()\n"
   ]
  },
  {
   "cell_type": "markdown",
   "id": "367a968b",
   "metadata": {},
   "source": [
    "*What is this plot telling us?*\n",
    "\n",
    "We can see from this residual plot that the residuals are not randomly spread around the x-axis, which leads us to believe that maybe a non-linear model is more appropriate for this data.\n"
   ]
  },
  {
   "cell_type": "markdown",
   "id": "ab8fbe2b",
   "metadata": {},
   "source": [
    "###  Multiple Linear Regression\n"
   ]
  },
  {
   "cell_type": "markdown",
   "id": "8a51edd8",
   "metadata": {},
   "source": [
    "How do we visualise a model for Multiple Linear Regression? This gets a bit more complicated because you can't visualise it with regression or residual plot. \n",
    "\n",
    "One way to look at the fit of the model is by looking at the **distribution plot**: We can look at the distribution of the fitted values that result from the model and compare it to the distribution of the actual values.\n",
    "\n",
    " First lets make a prediction \n"
   ]
  },
  {
   "cell_type": "code",
   "execution_count": 175,
   "id": "52fb88fa",
   "metadata": {},
   "outputs": [
    {
     "data": {
      "text/plain": [
       "<Figure size 864x720 with 0 Axes>"
      ]
     },
     "execution_count": 175,
     "metadata": {},
     "output_type": "execute_result"
    },
    {
     "data": {
      "text/plain": [
       "<Figure size 864x720 with 0 Axes>"
      ]
     },
     "metadata": {},
     "output_type": "display_data"
    }
   ],
   "source": [
    "\n",
    "Y_hat = lm.predict(X_train)\n",
    "\n",
    "plt.figure(figsize=(width, height))"
   ]
  },
  {
   "cell_type": "code",
   "execution_count": 176,
   "id": "db9e6120",
   "metadata": {},
   "outputs": [
    {
     "name": "stderr",
     "output_type": "stream",
     "text": [
      "C:\\Users\\Hewlett - Packard\\anaconda3\\lib\\site-packages\\seaborn\\distributions.py:2619: FutureWarning: `distplot` is a deprecated function and will be removed in a future version. Please adapt your code to use either `displot` (a figure-level function with similar flexibility) or `kdeplot` (an axes-level function for kernel density plots).\n",
      "  warnings.warn(msg, FutureWarning)\n",
      "C:\\Users\\Hewlett - Packard\\anaconda3\\lib\\site-packages\\seaborn\\distributions.py:2619: FutureWarning: `distplot` is a deprecated function and will be removed in a future version. Please adapt your code to use either `displot` (a figure-level function with similar flexibility) or `kdeplot` (an axes-level function for kernel density plots).\n",
      "  warnings.warn(msg, FutureWarning)\n"
     ]
    },
    {
     "data": {
      "image/png": "[encoded data removed]",
      "text/plain": [
       "<Figure size 432x288 with 1 Axes>"
      ]
     },
     "metadata": {
      "needs_background": "light"
     },
     "output_type": "display_data"
    }
   ],
   "source": [
    "ax1 = sns.distplot(data['price'], hist=False, color=\"r\", label=\"Actual Value\")\n",
    "sns.distplot(Yhat, hist=False, color=\"b\", label=\"Fitted Values\" , ax=ax1)\n",
    "\n",
    "plt.title('Actual vs Fitted Values for Price')\n",
    "plt.xlabel('Price (in dollars)')\n",
    "plt.ylabel('Proportion of Cars')\n",
    "\n",
    "plt.show()\n",
    "plt.close()"
   ]
  },
  {
   "cell_type": "markdown",
   "id": "cff5d99b",
   "metadata": {},
   "source": [
    "We can see that the fitted values are reasonably close to the actual values, since the two distributions overlap a bit. However, there is definitely some room for improvement.\n"
   ]
  },
  {
   "cell_type": "markdown",
   "id": "ca79da15",
   "metadata": {},
   "source": [
    "## Part 3: Polynomial Regression and Pipelines \n"
   ]
  },
  {
   "cell_type": "markdown",
   "id": "bdcc71b4",
   "metadata": {},
   "source": [
    "**Polynomial regression** is a particular case of the general linear regression model or multiple linear regression models. \n",
    "We get non-linear relationships by squaring or setting higher-order terms of the predictor variables.\n",
    "\n",
    "There are different orders of polynomial regression:\n"
   ]
  },
  {
   "cell_type": "markdown",
   "id": "20580245",
   "metadata": {},
   "source": [
    "<center>**Quadratic - 2nd order**</center>"
   ]
  },
  {
   "cell_type": "markdown",
   "id": "6c0ca2eb",
   "metadata": {},
   "source": [
    "\n",
    "\n",
    " \\begin{equation*}\n",
    "Yhat = a + b_1 X_1 +b_2 X_1^2 + b_3 X_2 + b_4 X_2^2 \n",
    "\\\\\n",
    "\\end{equation*}\n",
    "\n"
   ]
  },
  {
   "cell_type": "markdown",
   "id": "908277b1",
   "metadata": {},
   "source": [
    " <center>**Cubic - 3rd order**</center>"
   ]
  },
  {
   "cell_type": "markdown",
   "id": "f36e3095",
   "metadata": {},
   "source": [
    " \\begin{equation*}\n",
    "Yhat = a + b_1 X +b_2 X^2 +b_3 X^3\\\\\n",
    "\\end{equation*}\n"
   ]
  },
  {
   "cell_type": "markdown",
   "id": "b897a118",
   "metadata": {},
   "source": [
    "<center> **Higher order**:</center>"
   ]
  },
  {
   "cell_type": "markdown",
   "id": "736e6b32",
   "metadata": {},
   "source": [
    "\n",
    " \\begin{equation*}\n",
    "Y = a + b_1 X +b_2 X^2 +b_3 X^3 + ... + b_n X_n^n\\\\\n",
    "\\end{equation*}\n"
   ]
  },
  {
   "cell_type": "markdown",
   "id": "0f6c0a67",
   "metadata": {},
   "source": [
    "\n",
    "We saw earlier that a linear model did not provide the best fit while using highway-mpg as the predictor variable. Let's see if we can try fitting a polynomial model to the data instead.\n",
    "\n",
    " We will use the following function to plot the data:"
   ]
  },
  {
   "cell_type": "code",
   "execution_count": 177,
   "id": "5ebe9f1b",
   "metadata": {},
   "outputs": [
    {
     "name": "stdout",
     "output_type": "stream",
     "text": [
      "done\n"
     ]
    }
   ],
   "source": [
    "\n",
    "def PlotPolly(model,independent_variable,dependent_variabble, Name):\n",
    "    x_new = np.linspace(15, 55, 100)\n",
    "    y_new = model(x_new)\n",
    "\n",
    "    plt.plot(independent_variable,dependent_variabble,'.', x_new, y_new, '-')\n",
    "    plt.title('Polynomial Fit with Matplotlib for Price ~ Length')\n",
    "    ax = plt.gca()\n",
    "    ax.set_axis_bgcolor((0.898, 0.898, 0.898))\n",
    "    fig = plt.gcf()\n",
    "    plt.xlabel(Name)\n",
    "    plt.ylabel('Price of Cars')\n",
    "\n",
    "    plt.show()\n",
    "    plt.close()\n",
    "    \n",
    "print(\"done\")"
   ]
  },
  {
   "cell_type": "markdown",
   "id": "72ef7f70",
   "metadata": {},
   "source": [
    "lets get the variables  \n"
   ]
  },
  {
   "cell_type": "code",
   "execution_count": 178,
   "id": "41c0d208",
   "metadata": {},
   "outputs": [
    {
     "name": "stdout",
     "output_type": "stream",
     "text": [
      "done\n"
     ]
    }
   ],
   "source": [
    "x = data['highway-mpg']\n",
    "y = data['price']\n",
    "print(\"done\")\n"
   ]
  },
  {
   "cell_type": "markdown",
   "id": "d9b87885",
   "metadata": {},
   "source": [
    "Let's fit the polynomial using the function **polyfit**, then use the function **poly1d** to display the polynomial function.\n"
   ]
  },
  {
   "cell_type": "code",
   "execution_count": 179,
   "id": "a98fab5f",
   "metadata": {},
   "outputs": [
    {
     "name": "stdout",
     "output_type": "stream",
     "text": [
      "        3         2\n",
      "-1.557 x + 204.8 x - 8965 x + 1.379e+05\n"
     ]
    }
   ],
   "source": [
    "\n",
    "\n",
    "# Here we use a polynomial of the 3rd order (cubic) \n",
    "f = np.polyfit(x, y, 3)\n",
    "p = np.poly1d(f)\n",
    "print(p)"
   ]
  },
  {
   "cell_type": "markdown",
   "id": "eba5573b",
   "metadata": {},
   "source": [
    " Let's plot the function \n"
   ]
  },
  {
   "cell_type": "code",
   "execution_count": 184,
   "id": "7bb2b965",
   "metadata": {},
   "outputs": [
    {
     "ename": "AttributeError",
     "evalue": "'AxesSubplot' object has no attribute 'set_axis_bgcolor'",
     "output_type": "error",
     "traceback": [
      "\u001b[1;31m---------------------------------------------------------------------------\u001b[0m",
      "\u001b[1;31mAttributeError\u001b[0m                            Traceback (most recent call last)",
      "Input \u001b[1;32mIn [184]\u001b[0m, in \u001b[0;36m<cell line: 1>\u001b[1;34m()\u001b[0m\n\u001b[1;32m----> 1\u001b[0m \u001b[43mPlotPolly\u001b[49m\u001b[43m(\u001b[49m\u001b[43mp\u001b[49m\u001b[43m,\u001b[49m\u001b[43mx\u001b[49m\u001b[43m,\u001b[49m\u001b[43my\u001b[49m\u001b[43m,\u001b[49m\u001b[43m \u001b[49m\u001b[43mdata\u001b[49m\u001b[43m[\u001b[49m\u001b[38;5;124;43m'\u001b[39;49m\u001b[38;5;124;43mhighway-mpg\u001b[39;49m\u001b[38;5;124;43m'\u001b[39;49m\u001b[43m]\u001b[49m\u001b[43m)\u001b[49m\n\u001b[0;32m      3\u001b[0m np\u001b[38;5;241m.\u001b[39mpolyfit(x, y, \u001b[38;5;241m3\u001b[39m)\n",
      "Input \u001b[1;32mIn [177]\u001b[0m, in \u001b[0;36mPlotPolly\u001b[1;34m(model, independent_variable, dependent_variabble, Name)\u001b[0m\n\u001b[0;32m      6\u001b[0m plt\u001b[38;5;241m.\u001b[39mtitle(\u001b[38;5;124m'\u001b[39m\u001b[38;5;124mPolynomial Fit with Matplotlib for Price ~ Length\u001b[39m\u001b[38;5;124m'\u001b[39m)\n\u001b[0;32m      7\u001b[0m ax \u001b[38;5;241m=\u001b[39m plt\u001b[38;5;241m.\u001b[39mgca()\n\u001b[1;32m----> 8\u001b[0m \u001b[43max\u001b[49m\u001b[38;5;241;43m.\u001b[39;49m\u001b[43mset_axis_bgcolor\u001b[49m((\u001b[38;5;241m0.898\u001b[39m, \u001b[38;5;241m0.898\u001b[39m, \u001b[38;5;241m0.898\u001b[39m))\n\u001b[0;32m      9\u001b[0m fig \u001b[38;5;241m=\u001b[39m plt\u001b[38;5;241m.\u001b[39mgcf()\n\u001b[0;32m     10\u001b[0m plt\u001b[38;5;241m.\u001b[39mxlabel(Name)\n",
      "\u001b[1;31mAttributeError\u001b[0m: 'AxesSubplot' object has no attribute 'set_axis_bgcolor'"
     ]
    },
    {
     "data": {
      "image/png": "[encoded data removed]",
      "text/plain": [
       "<Figure size 432x288 with 1 Axes>"
      ]
     },
     "metadata": {
      "needs_background": "light"
     },
     "output_type": "display_data"
    }
   ],
   "source": [
    "PlotPolly(p,x,y, data['highway-mpg'])\n",
    "\n",
    "np.polyfit(x, y, 3)"
   ]
  },
  {
   "cell_type": "markdown",
   "id": "7df7096a",
   "metadata": {},
   "source": [
    "\n",
    "We canalready see from plotting that this polynomial model performs better than the linear model. This is because the generated polynomial function  \"hits\" more of the data points.\n",
    " "
   ]
  },
  {
   "cell_type": "markdown",
   "id": "b69b81c2",
   "metadata": {},
   "source": [
    "\n",
    "\n",
    "<div class=\"alert alert-danger alertdanger\" style=\"margin-top: 20px\">\n",
    "<h1> Question  #4: </h1>\n",
    "<b> Create  11 order polynomial model with the variables x and y from above?  </b>\n",
    "</div>"
   ]
  },
  {
   "cell_type": "markdown",
   "id": "56e340c0",
   "metadata": {},
   "source": [
    " <div align=\"right\">\n",
    "<a href=\"#q4\" class=\"btn btn-default\" data-toggle=\"collapse\">Click here for the solution</a>\n",
    "\n",
    "</div>\n",
    "<div id=\"q4\" class=\"collapse\">\n",
    "```\n",
    "# calculate polynomial\n",
    "# Here we use a polynomial of the 3rd order (cubic) \n",
    "f1 = np.polyfit(x, y, 11)\n",
    "p1 = np.poly1d(f1)\n",
    "print(p)\n",
    "PlotPolly(p1,x,y, 'Length')\n",
    "```\n",
    "</div>"
   ]
  },
  {
   "cell_type": "code",
   "execution_count": 188,
   "id": "f31bab8b",
   "metadata": {},
   "outputs": [
    {
     "name": "stdout",
     "output_type": "stream",
     "text": [
      "        3         2\n",
      "-1.557 x + 204.8 x - 8965 x + 1.379e+05\n"
     ]
    },
    {
     "ename": "AttributeError",
     "evalue": "'AxesSubplot' object has no attribute 'set_axis_bgcolor'",
     "output_type": "error",
     "traceback": [
      "\u001b[1;31m---------------------------------------------------------------------------\u001b[0m",
      "\u001b[1;31mAttributeError\u001b[0m                            Traceback (most recent call last)",
      "Input \u001b[1;32mIn [188]\u001b[0m, in \u001b[0;36m<cell line: 6>\u001b[1;34m()\u001b[0m\n\u001b[0;32m      4\u001b[0m p1 \u001b[38;5;241m=\u001b[39m np\u001b[38;5;241m.\u001b[39mpoly1d(f1)\n\u001b[0;32m      5\u001b[0m \u001b[38;5;28mprint\u001b[39m(p)\n\u001b[1;32m----> 6\u001b[0m \u001b[43mPlotPolly\u001b[49m\u001b[43m(\u001b[49m\u001b[43mp1\u001b[49m\u001b[43m,\u001b[49m\u001b[43mx\u001b[49m\u001b[43m,\u001b[49m\u001b[43my\u001b[49m\u001b[43m,\u001b[49m\u001b[43m \u001b[49m\u001b[38;5;124;43m'\u001b[39;49m\u001b[38;5;124;43mLength\u001b[39;49m\u001b[38;5;124;43m'\u001b[39;49m\u001b[43m)\u001b[49m\n",
      "Input \u001b[1;32mIn [177]\u001b[0m, in \u001b[0;36mPlotPolly\u001b[1;34m(model, independent_variable, dependent_variabble, Name)\u001b[0m\n\u001b[0;32m      6\u001b[0m plt\u001b[38;5;241m.\u001b[39mtitle(\u001b[38;5;124m'\u001b[39m\u001b[38;5;124mPolynomial Fit with Matplotlib for Price ~ Length\u001b[39m\u001b[38;5;124m'\u001b[39m)\n\u001b[0;32m      7\u001b[0m ax \u001b[38;5;241m=\u001b[39m plt\u001b[38;5;241m.\u001b[39mgca()\n\u001b[1;32m----> 8\u001b[0m \u001b[43max\u001b[49m\u001b[38;5;241;43m.\u001b[39;49m\u001b[43mset_axis_bgcolor\u001b[49m((\u001b[38;5;241m0.898\u001b[39m, \u001b[38;5;241m0.898\u001b[39m, \u001b[38;5;241m0.898\u001b[39m))\n\u001b[0;32m      9\u001b[0m fig \u001b[38;5;241m=\u001b[39m plt\u001b[38;5;241m.\u001b[39mgcf()\n\u001b[0;32m     10\u001b[0m plt\u001b[38;5;241m.\u001b[39mxlabel(Name)\n",
      "\u001b[1;31mAttributeError\u001b[0m: 'AxesSubplot' object has no attribute 'set_axis_bgcolor'"
     ]
    },
    {
     "data": {
      "image/png": "[encoded data removed]",
      "text/plain": [
       "<Figure size 432x288 with 1 Axes>"
      ]
     },
     "metadata": {
      "needs_background": "light"
     },
     "output_type": "display_data"
    }
   ],
   "source": [
    "# calculate polynomial\n",
    "# Here we use a polynomial of the 3rd order (cubic) \n",
    "f1 = np.polyfit(x, y, 11)\n",
    "p1 = np.poly1d(f1)\n",
    "print(p)\n",
    "PlotPolly(p1,x,y, 'Length')"
   ]
  },
  {
   "cell_type": "markdown",
   "id": "0c936638",
   "metadata": {},
   "source": [
    "The analytical expression for Multivariate Polynomial function gets complicated. For example, the expression for a second-order (degree=2)polynomial with two variables is given by:\n"
   ]
  },
  {
   "cell_type": "markdown",
   "id": "3372e39e",
   "metadata": {},
   "source": [
    "\n",
    "\\begin{equation*}\n",
    "Yhat = a + b_1 X_1 +b_2 X_2 +b_3 X_1 X_2+b_4 X_1^2+b_5 X_2^2\n",
    "\\end{equation*}\n"
   ]
  },
  {
   "cell_type": "markdown",
   "id": "fd396d16",
   "metadata": {},
   "source": [
    "We can perform a polynomial transform on multiple features. First, we import the  module:\n",
    "\n"
   ]
  },
  {
   "cell_type": "code",
   "execution_count": 189,
   "id": "8f0ae6c0",
   "metadata": {},
   "outputs": [],
   "source": [
    "from sklearn.preprocessing import PolynomialFeatures\n"
   ]
  },
  {
   "cell_type": "markdown",
   "id": "6fcbe5b0",
   "metadata": {},
   "source": [
    "We create a **PolynomialFeatures** object of degree 2: \n"
   ]
  },
  {
   "cell_type": "code",
   "execution_count": 190,
   "id": "2a79b0e8",
   "metadata": {},
   "outputs": [
    {
     "data": {
      "text/plain": [
       "PolynomialFeatures()"
      ]
     },
     "execution_count": 190,
     "metadata": {},
     "output_type": "execute_result"
    }
   ],
   "source": [
    "# instantiate the polynomial features class\n",
    "pr=PolynomialFeatures(degree=2)\n",
    "pr"
   ]
  },
  {
   "cell_type": "code",
   "execution_count": 191,
   "id": "41383407",
   "metadata": {},
   "outputs": [],
   "source": [
    "X_train_pr=pr.fit_transform(X_train)"
   ]
  },
  {
   "cell_type": "markdown",
   "id": "eebc8ee8",
   "metadata": {},
   "source": [
    "The original data is of 201 samples and 4 features "
   ]
  },
  {
   "cell_type": "code",
   "execution_count": 192,
   "id": "02301e63",
   "metadata": {},
   "outputs": [
    {
     "data": {
      "text/plain": [
       "(201, 4)"
      ]
     },
     "execution_count": 192,
     "metadata": {},
     "output_type": "execute_result"
    }
   ],
   "source": [
    "X_train.shape"
   ]
  },
  {
   "cell_type": "markdown",
   "id": "701a109e",
   "metadata": {},
   "source": [
    "after the transformation, there 201 samples and 15 features\n"
   ]
  },
  {
   "cell_type": "code",
   "execution_count": 193,
   "id": "8e570bde",
   "metadata": {},
   "outputs": [
    {
     "data": {
      "text/plain": [
       "(201, 15)"
      ]
     },
     "execution_count": 193,
     "metadata": {},
     "output_type": "execute_result"
    }
   ],
   "source": [
    "X_train_pr.shape"
   ]
  },
  {
   "cell_type": "markdown",
   "id": "e748137b",
   "metadata": {},
   "source": [
    "## Pipeline \n",
    "\n",
    "Data Pipelines simplify the steps of processing the data. We use the module  **Pipeline** to create a pipeline. We also use **StandardScaler** as a step in our pipeline.\n"
   ]
  },
  {
   "cell_type": "code",
   "execution_count": 194,
   "id": "5c9a85ac",
   "metadata": {},
   "outputs": [],
   "source": [
    "from sklearn.pipeline import Pipeline\n",
    "from sklearn.preprocessing import StandardScaler"
   ]
  },
  {
   "cell_type": "markdown",
   "id": "94575252",
   "metadata": {},
   "source": [
    "\n",
    "We create the pipeline, by creating a list of tuples including the name of the model or estimator and its corresponding constructor. \n"
   ]
  },
  {
   "cell_type": "code",
   "execution_count": 195,
   "id": "54e6c035",
   "metadata": {},
   "outputs": [],
   "source": [
    "Input=[('scale',StandardScaler()),('polynomial', PolynomialFeatures(include_bias=False)),('model',LinearRegression())]\n"
   ]
  },
  {
   "cell_type": "markdown",
   "id": "a4ad1fdd",
   "metadata": {},
   "source": [
    "\n",
    "we input the list as an argument to the pipeline constructor \n"
   ]
  },
  {
   "cell_type": "code",
   "execution_count": 196,
   "id": "c67e5964",
   "metadata": {},
   "outputs": [
    {
     "data": {
      "text/plain": [
       "Pipeline(steps=[('scale', StandardScaler()),\n",
       "                ('polynomial', PolynomialFeatures(include_bias=False)),\n",
       "                ('model', LinearRegression())])"
      ]
     },
     "execution_count": 196,
     "metadata": {},
     "output_type": "execute_result"
    }
   ],
   "source": [
    "pipe=Pipeline(Input)\n",
    "pipe"
   ]
  },
  {
   "cell_type": "markdown",
   "id": "1378ec3f",
   "metadata": {},
   "source": [
    "\n",
    "\n",
    "We can normalize the data,  perform a transform and fit the model simultaneously."
   ]
  },
  {
   "cell_type": "code",
   "execution_count": 197,
   "id": "494b3bce",
   "metadata": {},
   "outputs": [
    {
     "data": {
      "text/plain": [
       "Pipeline(steps=[('scale', StandardScaler()),\n",
       "                ('polynomial', PolynomialFeatures(include_bias=False)),\n",
       "                ('model', LinearRegression())])"
      ]
     },
     "execution_count": 197,
     "metadata": {},
     "output_type": "execute_result"
    }
   ],
   "source": [
    "pipe.fit(X_train,y)"
   ]
  },
  {
   "cell_type": "markdown",
   "id": "2b5c1c68",
   "metadata": {},
   "source": [
    " Similarly,  we can normalize the data, perform a transform and produce a prediction  simultaneously\n"
   ]
  },
  {
   "cell_type": "code",
   "execution_count": 198,
   "id": "9a5f4ddc",
   "metadata": {},
   "outputs": [
    {
     "data": {
      "text/plain": [
       "array([15331.58857451, 15331.58857451, 12767.74444039,  9882.62761917])"
      ]
     },
     "execution_count": 198,
     "metadata": {},
     "output_type": "execute_result"
    }
   ],
   "source": [
    "ypipe=pipe.predict(X_train)\n",
    "ypipe[0:4]\n"
   ]
  },
  {
   "cell_type": "markdown",
   "id": "ad7acf31",
   "metadata": {},
   "source": [
    "\n",
    "<div class=\"alert alert-danger alertdanger\" style=\"margin-top: 20px\">\n",
    "<h1> Question  #5: </h1>\n",
    "<b>  Create a pipeline that Standardizes the data, then perform prediction using a linear regression model using the features Z and targets y  </b>\n",
    "</div>\n"
   ]
  },
  {
   "cell_type": "markdown",
   "id": "0f59e56e",
   "metadata": {},
   "source": [
    "\n",
    "<div align=\"right\">\n",
    "<a href=\"#q5\" class=\"btn btn-default\" data-toggle=\"collapse\">Click here for the solution</a>\n",
    "\n",
    "</div>\n",
    "<div id=\"q5\" class=\"collapse\">\n",
    "```\n",
    "Input=[('scale',StandardScaler()),('model',LinearRegression())]\n",
    "\n",
    "pipe=Pipeline(Input)\n",
    "\n",
    "pipe.fit(Z,y)\n",
    "\n",
    "ypipe=pipe.predict(Z)\n",
    "ypipe[0:10]\n",
    "```\n",
    "</div>"
   ]
  },
  {
   "cell_type": "markdown",
   "id": "2f9ad91b",
   "metadata": {},
   "source": [
    "## Part 4: Measures for In-Sample Evaluation\n",
    "\n",
    "When evaluating our models, not only do we want to visualise the results, but we also want a quantitative measure to determine how accurate the model is.\n",
    "\n",
    "Two very important measures that are often used in Statistics to determine the accuracy of a model are:\n",
    "\n",
    "- **R^2 / R-squared**\n",
    "- **Mean Squared Error (MSE)**\n",
    "\n",
    "**R-squared**\n",
    "\n",
    "R squared, also known as the coefficient of determination, is a measure to indicate how close the data is to the fitted regression line.\n",
    "The value of the R-squared is the percentage of variation of the response variable (y) that is explained by a linear model.\n",
    "\n",
    "\n",
    "\n",
    "**Mean Squared Error (MSE)**\n",
    "\n",
    "The Mean Squared Error measures the average of the squares of errors, that is, the difference between actual value (y) and the estimated value (ŷ).\n",
    "\n"
   ]
  },
  {
   "cell_type": "markdown",
   "id": "0091c1ca",
   "metadata": {},
   "source": [
    "### Model 1: Simple Linear Regression\n"
   ]
  },
  {
   "cell_type": "markdown",
   "id": "b47503ea",
   "metadata": {},
   "source": [
    "\n",
    "Let's calculate the R^2"
   ]
  },
  {
   "cell_type": "code",
   "execution_count": 199,
   "id": "61f24858",
   "metadata": {},
   "outputs": [
    {
     "data": {
      "text/plain": [
       "0.29501777036720744"
      ]
     },
     "execution_count": 199,
     "metadata": {},
     "output_type": "execute_result"
    }
   ],
   "source": [
    "\n",
    "#highway_mpg_fit\n",
    "lm.fit(X, Y)\n",
    "# Find the R^2\n",
    "lm.score(X, Y)"
   ]
  },
  {
   "cell_type": "markdown",
   "id": "26801649",
   "metadata": {},
   "source": [
    "We can say that ~ 49.659% of the variation of the price is explained by this simple linear model \"horsepower_fit\".\n",
    "\n",
    "Let's calculate the MSE\n",
    "\n",
    "We can predict the output i.e., \"yhat\" using the predict method, where X is the input variable:\n"
   ]
  },
  {
   "cell_type": "code",
   "execution_count": 200,
   "id": "fd3df200",
   "metadata": {},
   "outputs": [
    {
     "data": {
      "text/plain": [
       "array([15450.27312826, 15450.27312826,  2729.69660162, 10941.71435932])"
      ]
     },
     "execution_count": 200,
     "metadata": {},
     "output_type": "execute_result"
    }
   ],
   "source": [
    "Yhat=lm.predict(X)\n",
    "Yhat[0:4]\n"
   ]
  },
  {
   "cell_type": "markdown",
   "id": "61271624",
   "metadata": {},
   "source": [
    " lets import the function **mean_squared_error** from the module **metrics**\n",
    "\n"
   ]
  },
  {
   "cell_type": "code",
   "execution_count": 201,
   "id": "cad2168c",
   "metadata": {},
   "outputs": [],
   "source": [
    "from sklearn.metrics import mean_squared_error"
   ]
  },
  {
   "cell_type": "markdown",
   "id": "ea09fa54",
   "metadata": {},
   "source": [
    " we compare the predicted results with the actual results \n"
   ]
  },
  {
   "cell_type": "code",
   "execution_count": 202,
   "id": "87c7f806",
   "metadata": {},
   "outputs": [
    {
     "data": {
      "text/plain": [
       "44302250.17369163"
      ]
     },
     "execution_count": 202,
     "metadata": {},
     "output_type": "execute_result"
    }
   ],
   "source": [
    "\n",
    "\n",
    "#mean_squared_error(Y_true, Y_predict)\n",
    "mean_squared_error(data['price'], Yhat)\n"
   ]
  },
  {
   "cell_type": "markdown",
   "id": "a428d0fb",
   "metadata": {},
   "source": [
    "\n",
    "### Model 2: Multiple Linear Regression\n",
    "\n",
    "Let's calculate the R^2"
   ]
  },
  {
   "cell_type": "code",
   "execution_count": 207,
   "id": "6144f854",
   "metadata": {},
   "outputs": [
    {
     "data": {
      "text/plain": [
       "0.8030934661794138"
      ]
     },
     "execution_count": 207,
     "metadata": {},
     "output_type": "execute_result"
    }
   ],
   "source": [
    "# fit the model \n",
    "lm.fit(X_train, data['price'])\n",
    "# Find the R^2\n",
    "lm.score(X_train, data['price'])"
   ]
  },
  {
   "cell_type": "markdown",
   "id": "5a8228c9",
   "metadata": {},
   "source": [
    "We can say that ~ 80.896 % of the variation of price is explained by this multiple linear regression \"multi_fit\".\n",
    "\n",
    "Let's calculate the MSE\n",
    "\n",
    " we produce a prediction "
   ]
  },
  {
   "cell_type": "code",
   "execution_count": 208,
   "id": "15690e80",
   "metadata": {},
   "outputs": [],
   "source": [
    "Y_predict_multifit = lm.predict(X_train)"
   ]
  },
  {
   "cell_type": "markdown",
   "id": "74c7f9f4",
   "metadata": {},
   "source": [
    "\n",
    " we compare the predicted results with the actual results \n"
   ]
  },
  {
   "cell_type": "code",
   "execution_count": 209,
   "id": "1ec3f3a2",
   "metadata": {},
   "outputs": [
    {
     "data": {
      "text/plain": [
       "12373932.4985509"
      ]
     },
     "execution_count": 209,
     "metadata": {},
     "output_type": "execute_result"
    }
   ],
   "source": [
    "mean_squared_error(data['price'], Y_predict_multifit)\n"
   ]
  },
  {
   "cell_type": "markdown",
   "id": "37fd2410",
   "metadata": {},
   "source": [
    "\n",
    "### Model 3: Polynomial Fit"
   ]
  },
  {
   "cell_type": "markdown",
   "id": "ee5ae8eb",
   "metadata": {},
   "source": [
    "Let's calculate the R^2\n",
    "\n",
    " let’s import the function **r2_score** from the module ** metrics** as we are using a different function  \n"
   ]
  },
  {
   "cell_type": "code",
   "execution_count": 210,
   "id": "bcb2c5fe",
   "metadata": {},
   "outputs": [],
   "source": [
    "\n",
    "\n",
    "from sklearn.metrics import r2_score"
   ]
  },
  {
   "cell_type": "markdown",
   "id": "c9d2b209",
   "metadata": {},
   "source": [
    "We apply the function to get the value of r^2"
   ]
  },
  {
   "cell_type": "code",
   "execution_count": 211,
   "id": "71388586",
   "metadata": {},
   "outputs": [
    {
     "data": {
      "text/plain": [
       "0.6741946663906513"
      ]
     },
     "execution_count": 211,
     "metadata": {},
     "output_type": "execute_result"
    }
   ],
   "source": [
    "\n",
    "r_squared = r2_score(y, p(x))\n",
    "r_squared"
   ]
  },
  {
   "cell_type": "markdown",
   "id": "82ab0be0",
   "metadata": {},
   "source": [
    "\n",
    "\n",
    "We can say that ~ 67.419 % of the variation of price is explained by this polynomial fit\n",
    "\n",
    "### MSE\n",
    "\n",
    " We can also calculate the MSE:  \n",
    "\n",
    "mean_squared_error(df['price'], p(x)) \n",
    "\n",
    "## Part 5: Prediction and Decision Making\n",
    "### Prediction\n",
    "\n",
    "In the previous section, we trained the model using the method **fit**. Now we will use the method **predict** to produce a prediction.Lets import **pyplot** for plotting; we will also be using some functions from numpy. \n",
    " \n",
    "\n",
    "\n"
   ]
  },
  {
   "cell_type": "code",
   "execution_count": 212,
   "id": "a98c8243",
   "metadata": {},
   "outputs": [],
   "source": [
    "import matplotlib.pyplot as plt\n",
    "import numpy as np\n",
    "\n",
    "%matplotlib inline \n"
   ]
  },
  {
   "cell_type": "markdown",
   "id": "b9e7f1ba",
   "metadata": {},
   "source": [
    "Create a  new input"
   ]
  },
  {
   "cell_type": "code",
   "execution_count": 213,
   "id": "ea4d993d",
   "metadata": {},
   "outputs": [],
   "source": [
    "new_input=np.arange(1,100,1).reshape(-1,1)"
   ]
  },
  {
   "cell_type": "markdown",
   "id": "825a3075",
   "metadata": {},
   "source": [
    " Fit the model \n"
   ]
  },
  {
   "cell_type": "code",
   "execution_count": 214,
   "id": "10c45b92",
   "metadata": {},
   "outputs": [
    {
     "data": {
      "text/plain": [
       "LinearRegression()"
      ]
     },
     "execution_count": 214,
     "metadata": {},
     "output_type": "execute_result"
    }
   ],
   "source": [
    "\n",
    "lm.fit(X, Y)\n",
    "lm"
   ]
  },
  {
   "cell_type": "code",
   "execution_count": 215,
   "id": "e002033e",
   "metadata": {},
   "outputs": [
    {
     "name": "stderr",
     "output_type": "stream",
     "text": [
      "C:\\Users\\Hewlett - Packard\\anaconda3\\lib\\site-packages\\sklearn\\base.py:450: UserWarning: X does not have valid feature names, but LinearRegression was fitted with feature names\n",
      "  warnings.warn(\n"
     ]
    },
    {
     "data": {
      "text/plain": [
       "array([-24321.65601198,  -8219.66040864,   7882.33519469,  23984.33079802,\n",
       "        40086.32640136])"
      ]
     },
     "execution_count": 215,
     "metadata": {},
     "output_type": "execute_result"
    }
   ],
   "source": [
    "yhat=lm.predict(new_input)\n",
    "yhat[0:5]"
   ]
  },
  {
   "cell_type": "markdown",
   "id": "97e59398",
   "metadata": {},
   "source": [
    "we can plot the data "
   ]
  },
  {
   "cell_type": "code",
   "execution_count": 216,
   "id": "894ce5f0",
   "metadata": {},
   "outputs": [
    {
     "data": {
      "image/png": "[encoded data removed]",
      "text/plain": [
       "<Figure size 432x288 with 1 Axes>"
      ]
     },
     "metadata": {
      "needs_background": "light"
     },
     "output_type": "display_data"
    }
   ],
   "source": [
    "\n",
    "plt.plot(new_input,yhat)\n",
    "plt.show()\n"
   ]
  },
  {
   "cell_type": "markdown",
   "id": "4faeec03",
   "metadata": {},
   "source": [
    "### Decision Making: Determining a Good Model Fit\n",
    "\n",
    "Now that we have visualized the different models, and generated the R-squared and MSE values for the fits, how do we determine a good model fit?\n",
    "\n",
    "- *What is a good R-squared value?*\n",
    "\n",
    "When comparing models, **the model with the higher R-squared value is a better fit** for the data.\n",
    "\n",
    "\n",
    "- *What is a good MSE?*\n",
    "\n",
    "When comparing models, **the model with the smallest MSE value is a better fit** for the data.#### Let's take a look at the values for the different models we get.\n"
   ]
  },
  {
   "cell_type": "markdown",
   "id": "f07d1a95",
   "metadata": {},
   "source": [
    "#### Let's take a look at the values for the different models.\n",
    "Simple Linear Regression: Using Highway-mpg as a Predictor Variable of Price.\n",
    "- R-squared: 0.49659118843391759\n",
    "- MSE: 3.16 x10^7"
   ]
  },
  {
   "cell_type": "markdown",
   "id": "e54fd1e8",
   "metadata": {},
   "source": [
    "\n",
    "Multiple Linear Regression: Using Horsepower, Curb-weight, Engine-size, and Highway-mpg as Predictor Variables of Price.\n",
    "- R-squared: 0.80896354913783497\n",
    "- MSE: 1.2 x10^7\n",
    "\n",
    "Polynomial Fit: Using Highway-mpg as a Predictor Variable of Price.\n",
    "- R-squared: 0.6741946663906514\n",
    "- MSE: 2.05 x 10^7\n",
    "\n",
    "### Simple Linear Regression model (SLR) vs Multiple Linear Regression model (MLR)\n",
    "\n",
    "Usually, the more variables you have, the better your model is at predicting, but this is not always true. Sometimes you may not have enough data, you may run into numerical problems, or many of the variables may not be useful and or even act as noise. As a result, you should always check the MSE and R^2. \n",
    "\n",
    "So to be able to compare the results of the MLR vs SLR models, we look at a combination of both the R-squared and MSE to make the best conclusion about the fit of the model.\n",
    " \n",
    "\n",
    "- **MSE ** \n",
    "The MSE of SLR is  3.16x10^7  while MLR has an MSE of 1.2 x10^7.  The MSE of MLR is much smaller. \n",
    "\n",
    "\n",
    "- **R-squared**: \n",
    "In this case, we can also see that there is a big difference between the R-squared of the SLR and the R-squared of the MLR. The R-squared for the SLR (~0.497) is very small compared to the R-squared for the MLR (~0.809). \n",
    "\n",
    "This R-squared in combination with the MSE show that MLR seems like the better model fit in this case, compared to SLR.\n",
    "\n",
    "### Simple Linear Model (SLR) vs Polynomial Fit\n",
    "\n",
    "- **MSE**: We can see that Polynomial Fit brought down the MSE, since this MSE is smaller than the one from the SLR. \n",
    "\n",
    "- **R-squared**: The R-squared for the Polyfit is larger than the R-squared for the SLR, so the Polynomial Fit also brought up the R-squared quite a bit.\n",
    "\n",
    "Since the Polynomial Fit resulted in a lower MSE and a higher R-squared, we can conclude that this was a better fit model than the simple linear regression for predicting Price with Highway-mpg as a predictor variable.\n",
    "\n",
    "### Multiple Linear Regression (MLR) vs Polynomial Fit\n",
    "\n",
    "- **MSE**: The MSE for the MLR is smaller than the MSE for the Polynomial Fit.\n",
    "- **R-squared**: The R-squared for the MLR is also much larger than for the Polynomial Fit.\n",
    "\n",
    "## Conclusion: \n",
    "\n",
    "Comparing these three models, we conclude that **the MLR model is the best model** to be able to predict price from our dataset. This result makes sense, since we have 27 variables in total, and we know that more than one of those variables are potential predictors of the final car price. \n",
    "\n",
    "kaggle"
   ]
  },
  {
   "cell_type": "markdown",
   "id": "06f763eb",
   "metadata": {},
   "source": [
    "Produce a prediction "
   ]
  },
  {
   "cell_type": "code",
   "execution_count": null,
   "id": "9fde96bd",
   "metadata": {},
   "outputs": [],
   "source": []
  },
  {
   "cell_type": "code",
   "execution_count": null,
   "id": "ca1cac7e",
   "metadata": {},
   "outputs": [],
   "source": []
  },
  {
   "cell_type": "code",
   "execution_count": null,
   "id": "1fbf6e94",
   "metadata": {},
   "outputs": [],
   "source": []
  },
  {
   "cell_type": "code",
   "execution_count": null,
   "id": "9cf1d922",
   "metadata": {},
   "outputs": [],
   "source": []
  },
  {
   "cell_type": "code",
   "execution_count": null,
   "id": "6b6143b8",
   "metadata": {},
   "outputs": [],
   "source": []
  }
 ],
 "metadata": {
  "kernelspec": {
   "display_name": "Python 3 (ipykernel)",
   "language": "python",
   "name": "python3"
  },
  "language_info": {
   "codemirror_mode": {
    "name": "ipython",
    "version": 3
   },
   "file_extension": ".py",
   "mimetype": "text/x-python",
   "name": "python",
   "nbconvert_exporter": "python",
   "pygments_lexer": "ipython3",
   "version": "3.9.12"
  }
 },
 "nbformat": 4,
 "nbformat_minor": 5
}
